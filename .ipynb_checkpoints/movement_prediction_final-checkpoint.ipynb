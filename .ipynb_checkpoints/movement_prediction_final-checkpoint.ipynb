{
 "cells": [
  {
   "cell_type": "markdown",
   "metadata": {},
   "source": [
    "# Introduction\n",
    "The present project consists in the prediction of the movement made by an individual based on the data obtained from a 3-axis accelerometer. To carry out this prediction a set of labeled data was provided. The strategy followed to achieve the prediction of the movements was based on the that published by de BAI et al *(Bai, J .; Goldsmith, J .; Caffo, B .; Glass, TA; Crainiceanu, CM Movelets: A dictionary of movement Electron J. Stat. 2012, 6, 559)*. This author and others who validated his work use 'movelets'. This technique decomposes movements into short components called “movelets”, and builds a reference for each activity type. Unknown activities are predicted by matching new movelets to the reference. To predict activities based on accelerometer data, we first define a movelet as a basic element of 3-axis time series data. Collections of movelets paired with known labels (annotations) form chapters, which are in turn organized into reference dictionaries of known movelets and their associated activities. Classification of accelerometer data with unknown activity annotations is based on decomposing the unlabeled data into component movelets, and then matching each unlabeled movelet to these chapters. The label of the best matched chapter is used as a preliminary prediction of the activity of the unlabeled movelet. Then, assuming that a movement is continuous and cannot last less than 3 seconds, a smoothing of the sequence of assigned tags was performed comparing with the two previous tags and the following 2 in the time sequence to confirm the tag assigned to the unknown sample.\n"
   ]
  },
  {
   "cell_type": "code",
   "execution_count": 1,
   "metadata": {},
   "outputs": [],
   "source": [
    "import pandas as pd\n",
    "import numpy as np\n",
    "import matplotlib.pyplot as plt\n",
    "import time"
   ]
  },
  {
   "cell_type": "markdown",
   "metadata": {},
   "source": [
    "# Methods"
   ]
  },
  {
   "cell_type": "markdown",
   "metadata": {},
   "source": [
    "# Train dataset\n",
    "Reading training datasets and merging both datasets based on timestamp"
   ]
  },
  {
   "cell_type": "code",
   "execution_count": 2,
   "metadata": {},
   "outputs": [
    {
     "data": {
      "text/html": [
       "<div>\n",
       "<style scoped>\n",
       "    .dataframe tbody tr th:only-of-type {\n",
       "        vertical-align: middle;\n",
       "    }\n",
       "\n",
       "    .dataframe tbody tr th {\n",
       "        vertical-align: top;\n",
       "    }\n",
       "\n",
       "    .dataframe thead th {\n",
       "        text-align: right;\n",
       "    }\n",
       "</style>\n",
       "<table border=\"1\" class=\"dataframe\">\n",
       "  <thead>\n",
       "    <tr style=\"text-align: right;\">\n",
       "      <th></th>\n",
       "      <th>Unnamed: 0</th>\n",
       "      <th>timestamp</th>\n",
       "      <th>UTC time</th>\n",
       "      <th>accuracy</th>\n",
       "      <th>x</th>\n",
       "      <th>y</th>\n",
       "      <th>z</th>\n",
       "    </tr>\n",
       "  </thead>\n",
       "  <tbody>\n",
       "    <tr>\n",
       "      <th>0</th>\n",
       "      <td>20586</td>\n",
       "      <td>1565109930787</td>\n",
       "      <td>2019-08-06T16:45:30.787</td>\n",
       "      <td>unknown</td>\n",
       "      <td>-0.006485</td>\n",
       "      <td>-0.934860</td>\n",
       "      <td>-0.069046</td>\n",
       "    </tr>\n",
       "    <tr>\n",
       "      <th>1</th>\n",
       "      <td>20587</td>\n",
       "      <td>1565109930887</td>\n",
       "      <td>2019-08-06T16:45:30.887</td>\n",
       "      <td>unknown</td>\n",
       "      <td>-0.066467</td>\n",
       "      <td>-1.015442</td>\n",
       "      <td>0.089554</td>\n",
       "    </tr>\n",
       "    <tr>\n",
       "      <th>2</th>\n",
       "      <td>20588</td>\n",
       "      <td>1565109930987</td>\n",
       "      <td>2019-08-06T16:45:30.987</td>\n",
       "      <td>unknown</td>\n",
       "      <td>-0.043488</td>\n",
       "      <td>-1.021255</td>\n",
       "      <td>0.178467</td>\n",
       "    </tr>\n",
       "    <tr>\n",
       "      <th>3</th>\n",
       "      <td>20589</td>\n",
       "      <td>1565109931087</td>\n",
       "      <td>2019-08-06T16:45:31.087</td>\n",
       "      <td>unknown</td>\n",
       "      <td>-0.053802</td>\n",
       "      <td>-0.987701</td>\n",
       "      <td>0.068985</td>\n",
       "    </tr>\n",
       "    <tr>\n",
       "      <th>4</th>\n",
       "      <td>20590</td>\n",
       "      <td>1565109931188</td>\n",
       "      <td>2019-08-06T16:45:31.188</td>\n",
       "      <td>unknown</td>\n",
       "      <td>-0.054031</td>\n",
       "      <td>-1.003616</td>\n",
       "      <td>0.126450</td>\n",
       "    </tr>\n",
       "  </tbody>\n",
       "</table>\n",
       "</div>"
      ],
      "text/plain": [
       "   Unnamed: 0      timestamp                 UTC time accuracy         x  \\\n",
       "0       20586  1565109930787  2019-08-06T16:45:30.787  unknown -0.006485   \n",
       "1       20587  1565109930887  2019-08-06T16:45:30.887  unknown -0.066467   \n",
       "2       20588  1565109930987  2019-08-06T16:45:30.987  unknown -0.043488   \n",
       "3       20589  1565109931087  2019-08-06T16:45:31.087  unknown -0.053802   \n",
       "4       20590  1565109931188  2019-08-06T16:45:31.188  unknown -0.054031   \n",
       "\n",
       "          y         z  \n",
       "0 -0.934860 -0.069046  \n",
       "1 -1.015442  0.089554  \n",
       "2 -1.021255  0.178467  \n",
       "3 -0.987701  0.068985  \n",
       "4 -1.003616  0.126450  "
      ]
     },
     "execution_count": 2,
     "metadata": {},
     "output_type": "execute_result"
    }
   ],
   "source": [
    "df_trts = pd.read_csv('train_time_series.csv')\n",
    "df_trts.head()"
   ]
  },
  {
   "cell_type": "code",
   "execution_count": 3,
   "metadata": {},
   "outputs": [
    {
     "data": {
      "text/html": [
       "<div>\n",
       "<style scoped>\n",
       "    .dataframe tbody tr th:only-of-type {\n",
       "        vertical-align: middle;\n",
       "    }\n",
       "\n",
       "    .dataframe tbody tr th {\n",
       "        vertical-align: top;\n",
       "    }\n",
       "\n",
       "    .dataframe thead th {\n",
       "        text-align: right;\n",
       "    }\n",
       "</style>\n",
       "<table border=\"1\" class=\"dataframe\">\n",
       "  <thead>\n",
       "    <tr style=\"text-align: right;\">\n",
       "      <th></th>\n",
       "      <th>Unnamed: 0</th>\n",
       "      <th>timestamp</th>\n",
       "      <th>UTC time</th>\n",
       "      <th>label</th>\n",
       "    </tr>\n",
       "  </thead>\n",
       "  <tbody>\n",
       "    <tr>\n",
       "      <th>0</th>\n",
       "      <td>20589</td>\n",
       "      <td>1565109931087</td>\n",
       "      <td>2019-08-06T16:45:31.087</td>\n",
       "      <td>1</td>\n",
       "    </tr>\n",
       "    <tr>\n",
       "      <th>1</th>\n",
       "      <td>20599</td>\n",
       "      <td>1565109932090</td>\n",
       "      <td>2019-08-06T16:45:32.090</td>\n",
       "      <td>1</td>\n",
       "    </tr>\n",
       "    <tr>\n",
       "      <th>2</th>\n",
       "      <td>20609</td>\n",
       "      <td>1565109933092</td>\n",
       "      <td>2019-08-06T16:45:33.092</td>\n",
       "      <td>1</td>\n",
       "    </tr>\n",
       "    <tr>\n",
       "      <th>3</th>\n",
       "      <td>20619</td>\n",
       "      <td>1565109934094</td>\n",
       "      <td>2019-08-06T16:45:34.094</td>\n",
       "      <td>1</td>\n",
       "    </tr>\n",
       "    <tr>\n",
       "      <th>4</th>\n",
       "      <td>20629</td>\n",
       "      <td>1565109935097</td>\n",
       "      <td>2019-08-06T16:45:35.097</td>\n",
       "      <td>1</td>\n",
       "    </tr>\n",
       "  </tbody>\n",
       "</table>\n",
       "</div>"
      ],
      "text/plain": [
       "   Unnamed: 0      timestamp                 UTC time  label\n",
       "0       20589  1565109931087  2019-08-06T16:45:31.087      1\n",
       "1       20599  1565109932090  2019-08-06T16:45:32.090      1\n",
       "2       20609  1565109933092  2019-08-06T16:45:33.092      1\n",
       "3       20619  1565109934094  2019-08-06T16:45:34.094      1\n",
       "4       20629  1565109935097  2019-08-06T16:45:35.097      1"
      ]
     },
     "execution_count": 3,
     "metadata": {},
     "output_type": "execute_result"
    }
   ],
   "source": [
    "df_trl = pd.read_csv('train_labels.csv')\n",
    "df_trl.head()"
   ]
  },
  {
   "cell_type": "code",
   "execution_count": 4,
   "metadata": {},
   "outputs": [
    {
     "data": {
      "text/html": [
       "<div>\n",
       "<style scoped>\n",
       "    .dataframe tbody tr th:only-of-type {\n",
       "        vertical-align: middle;\n",
       "    }\n",
       "\n",
       "    .dataframe tbody tr th {\n",
       "        vertical-align: top;\n",
       "    }\n",
       "\n",
       "    .dataframe thead th {\n",
       "        text-align: right;\n",
       "    }\n",
       "</style>\n",
       "<table border=\"1\" class=\"dataframe\">\n",
       "  <thead>\n",
       "    <tr style=\"text-align: right;\">\n",
       "      <th></th>\n",
       "      <th>Unnamed: 0_x</th>\n",
       "      <th>timestamp</th>\n",
       "      <th>UTC time_x</th>\n",
       "      <th>accuracy</th>\n",
       "      <th>x</th>\n",
       "      <th>y</th>\n",
       "      <th>z</th>\n",
       "      <th>Unnamed: 0_y</th>\n",
       "      <th>UTC time_y</th>\n",
       "      <th>label</th>\n",
       "    </tr>\n",
       "  </thead>\n",
       "  <tbody>\n",
       "    <tr>\n",
       "      <th>0</th>\n",
       "      <td>20586</td>\n",
       "      <td>1565109930787</td>\n",
       "      <td>2019-08-06T16:45:30.787</td>\n",
       "      <td>unknown</td>\n",
       "      <td>-0.006485</td>\n",
       "      <td>-0.934860</td>\n",
       "      <td>-0.069046</td>\n",
       "      <td>NaN</td>\n",
       "      <td>NaN</td>\n",
       "      <td>NaN</td>\n",
       "    </tr>\n",
       "    <tr>\n",
       "      <th>1</th>\n",
       "      <td>20587</td>\n",
       "      <td>1565109930887</td>\n",
       "      <td>2019-08-06T16:45:30.887</td>\n",
       "      <td>unknown</td>\n",
       "      <td>-0.066467</td>\n",
       "      <td>-1.015442</td>\n",
       "      <td>0.089554</td>\n",
       "      <td>NaN</td>\n",
       "      <td>NaN</td>\n",
       "      <td>NaN</td>\n",
       "    </tr>\n",
       "    <tr>\n",
       "      <th>2</th>\n",
       "      <td>20588</td>\n",
       "      <td>1565109930987</td>\n",
       "      <td>2019-08-06T16:45:30.987</td>\n",
       "      <td>unknown</td>\n",
       "      <td>-0.043488</td>\n",
       "      <td>-1.021255</td>\n",
       "      <td>0.178467</td>\n",
       "      <td>NaN</td>\n",
       "      <td>NaN</td>\n",
       "      <td>NaN</td>\n",
       "    </tr>\n",
       "    <tr>\n",
       "      <th>3</th>\n",
       "      <td>20589</td>\n",
       "      <td>1565109931087</td>\n",
       "      <td>2019-08-06T16:45:31.087</td>\n",
       "      <td>unknown</td>\n",
       "      <td>-0.053802</td>\n",
       "      <td>-0.987701</td>\n",
       "      <td>0.068985</td>\n",
       "      <td>20589.0</td>\n",
       "      <td>2019-08-06T16:45:31.087</td>\n",
       "      <td>1.0</td>\n",
       "    </tr>\n",
       "    <tr>\n",
       "      <th>4</th>\n",
       "      <td>20590</td>\n",
       "      <td>1565109931188</td>\n",
       "      <td>2019-08-06T16:45:31.188</td>\n",
       "      <td>unknown</td>\n",
       "      <td>-0.054031</td>\n",
       "      <td>-1.003616</td>\n",
       "      <td>0.126450</td>\n",
       "      <td>NaN</td>\n",
       "      <td>NaN</td>\n",
       "      <td>NaN</td>\n",
       "    </tr>\n",
       "    <tr>\n",
       "      <th>5</th>\n",
       "      <td>20591</td>\n",
       "      <td>1565109931288</td>\n",
       "      <td>2019-08-06T16:45:31.288</td>\n",
       "      <td>unknown</td>\n",
       "      <td>-0.010880</td>\n",
       "      <td>-0.967575</td>\n",
       "      <td>0.170898</td>\n",
       "      <td>NaN</td>\n",
       "      <td>NaN</td>\n",
       "      <td>NaN</td>\n",
       "    </tr>\n",
       "    <tr>\n",
       "      <th>6</th>\n",
       "      <td>20592</td>\n",
       "      <td>1565109931388</td>\n",
       "      <td>2019-08-06T16:45:31.388</td>\n",
       "      <td>unknown</td>\n",
       "      <td>0.052841</td>\n",
       "      <td>-0.982330</td>\n",
       "      <td>0.235565</td>\n",
       "      <td>NaN</td>\n",
       "      <td>NaN</td>\n",
       "      <td>NaN</td>\n",
       "    </tr>\n",
       "    <tr>\n",
       "      <th>7</th>\n",
       "      <td>20593</td>\n",
       "      <td>1565109931488</td>\n",
       "      <td>2019-08-06T16:45:31.488</td>\n",
       "      <td>unknown</td>\n",
       "      <td>0.032974</td>\n",
       "      <td>-1.053207</td>\n",
       "      <td>0.256714</td>\n",
       "      <td>NaN</td>\n",
       "      <td>NaN</td>\n",
       "      <td>NaN</td>\n",
       "    </tr>\n",
       "    <tr>\n",
       "      <th>8</th>\n",
       "      <td>20594</td>\n",
       "      <td>1565109931589</td>\n",
       "      <td>2019-08-06T16:45:31.589</td>\n",
       "      <td>unknown</td>\n",
       "      <td>-0.090424</td>\n",
       "      <td>-0.972794</td>\n",
       "      <td>0.356308</td>\n",
       "      <td>NaN</td>\n",
       "      <td>NaN</td>\n",
       "      <td>NaN</td>\n",
       "    </tr>\n",
       "    <tr>\n",
       "      <th>9</th>\n",
       "      <td>20595</td>\n",
       "      <td>1565109931689</td>\n",
       "      <td>2019-08-06T16:45:31.689</td>\n",
       "      <td>unknown</td>\n",
       "      <td>0.124268</td>\n",
       "      <td>-0.890533</td>\n",
       "      <td>0.223221</td>\n",
       "      <td>NaN</td>\n",
       "      <td>NaN</td>\n",
       "      <td>NaN</td>\n",
       "    </tr>\n",
       "    <tr>\n",
       "      <th>10</th>\n",
       "      <td>20596</td>\n",
       "      <td>1565109931789</td>\n",
       "      <td>2019-08-06T16:45:31.789</td>\n",
       "      <td>unknown</td>\n",
       "      <td>-0.031784</td>\n",
       "      <td>-0.893982</td>\n",
       "      <td>0.264236</td>\n",
       "      <td>NaN</td>\n",
       "      <td>NaN</td>\n",
       "      <td>NaN</td>\n",
       "    </tr>\n",
       "    <tr>\n",
       "      <th>11</th>\n",
       "      <td>20597</td>\n",
       "      <td>1565109931889</td>\n",
       "      <td>2019-08-06T16:45:31.889</td>\n",
       "      <td>unknown</td>\n",
       "      <td>-0.097427</td>\n",
       "      <td>-0.902725</td>\n",
       "      <td>0.137680</td>\n",
       "      <td>NaN</td>\n",
       "      <td>NaN</td>\n",
       "      <td>NaN</td>\n",
       "    </tr>\n",
       "    <tr>\n",
       "      <th>12</th>\n",
       "      <td>20598</td>\n",
       "      <td>1565109931989</td>\n",
       "      <td>2019-08-06T16:45:31.989</td>\n",
       "      <td>unknown</td>\n",
       "      <td>-0.094864</td>\n",
       "      <td>-1.197876</td>\n",
       "      <td>0.128494</td>\n",
       "      <td>NaN</td>\n",
       "      <td>NaN</td>\n",
       "      <td>NaN</td>\n",
       "    </tr>\n",
       "    <tr>\n",
       "      <th>13</th>\n",
       "      <td>20599</td>\n",
       "      <td>1565109932090</td>\n",
       "      <td>2019-08-06T16:45:32.090</td>\n",
       "      <td>unknown</td>\n",
       "      <td>0.013718</td>\n",
       "      <td>-0.852371</td>\n",
       "      <td>-0.000870</td>\n",
       "      <td>20599.0</td>\n",
       "      <td>2019-08-06T16:45:32.090</td>\n",
       "      <td>1.0</td>\n",
       "    </tr>\n",
       "    <tr>\n",
       "      <th>14</th>\n",
       "      <td>20600</td>\n",
       "      <td>1565109932190</td>\n",
       "      <td>2019-08-06T16:45:32.190</td>\n",
       "      <td>unknown</td>\n",
       "      <td>0.067947</td>\n",
       "      <td>-0.988525</td>\n",
       "      <td>0.034973</td>\n",
       "      <td>NaN</td>\n",
       "      <td>NaN</td>\n",
       "      <td>NaN</td>\n",
       "    </tr>\n",
       "    <tr>\n",
       "      <th>15</th>\n",
       "      <td>20601</td>\n",
       "      <td>1565109932290</td>\n",
       "      <td>2019-08-06T16:45:32.290</td>\n",
       "      <td>unknown</td>\n",
       "      <td>-0.049255</td>\n",
       "      <td>-1.031082</td>\n",
       "      <td>0.008942</td>\n",
       "      <td>NaN</td>\n",
       "      <td>NaN</td>\n",
       "      <td>NaN</td>\n",
       "    </tr>\n",
       "    <tr>\n",
       "      <th>16</th>\n",
       "      <td>20602</td>\n",
       "      <td>1565109932390</td>\n",
       "      <td>2019-08-06T16:45:32.390</td>\n",
       "      <td>unknown</td>\n",
       "      <td>0.109711</td>\n",
       "      <td>-0.992325</td>\n",
       "      <td>-0.090561</td>\n",
       "      <td>NaN</td>\n",
       "      <td>NaN</td>\n",
       "      <td>NaN</td>\n",
       "    </tr>\n",
       "    <tr>\n",
       "      <th>17</th>\n",
       "      <td>20603</td>\n",
       "      <td>1565109932491</td>\n",
       "      <td>2019-08-06T16:45:32.491</td>\n",
       "      <td>unknown</td>\n",
       "      <td>0.084793</td>\n",
       "      <td>-1.001282</td>\n",
       "      <td>-0.077515</td>\n",
       "      <td>NaN</td>\n",
       "      <td>NaN</td>\n",
       "      <td>NaN</td>\n",
       "    </tr>\n",
       "    <tr>\n",
       "      <th>18</th>\n",
       "      <td>20604</td>\n",
       "      <td>1565109932591</td>\n",
       "      <td>2019-08-06T16:45:32.591</td>\n",
       "      <td>unknown</td>\n",
       "      <td>0.110291</td>\n",
       "      <td>-1.010025</td>\n",
       "      <td>-0.080536</td>\n",
       "      <td>NaN</td>\n",
       "      <td>NaN</td>\n",
       "      <td>NaN</td>\n",
       "    </tr>\n",
       "    <tr>\n",
       "      <th>19</th>\n",
       "      <td>20605</td>\n",
       "      <td>1565109932691</td>\n",
       "      <td>2019-08-06T16:45:32.691</td>\n",
       "      <td>unknown</td>\n",
       "      <td>0.075974</td>\n",
       "      <td>-0.990738</td>\n",
       "      <td>-0.072174</td>\n",
       "      <td>NaN</td>\n",
       "      <td>NaN</td>\n",
       "      <td>NaN</td>\n",
       "    </tr>\n",
       "  </tbody>\n",
       "</table>\n",
       "</div>"
      ],
      "text/plain": [
       "    Unnamed: 0_x      timestamp               UTC time_x accuracy         x  \\\n",
       "0          20586  1565109930787  2019-08-06T16:45:30.787  unknown -0.006485   \n",
       "1          20587  1565109930887  2019-08-06T16:45:30.887  unknown -0.066467   \n",
       "2          20588  1565109930987  2019-08-06T16:45:30.987  unknown -0.043488   \n",
       "3          20589  1565109931087  2019-08-06T16:45:31.087  unknown -0.053802   \n",
       "4          20590  1565109931188  2019-08-06T16:45:31.188  unknown -0.054031   \n",
       "5          20591  1565109931288  2019-08-06T16:45:31.288  unknown -0.010880   \n",
       "6          20592  1565109931388  2019-08-06T16:45:31.388  unknown  0.052841   \n",
       "7          20593  1565109931488  2019-08-06T16:45:31.488  unknown  0.032974   \n",
       "8          20594  1565109931589  2019-08-06T16:45:31.589  unknown -0.090424   \n",
       "9          20595  1565109931689  2019-08-06T16:45:31.689  unknown  0.124268   \n",
       "10         20596  1565109931789  2019-08-06T16:45:31.789  unknown -0.031784   \n",
       "11         20597  1565109931889  2019-08-06T16:45:31.889  unknown -0.097427   \n",
       "12         20598  1565109931989  2019-08-06T16:45:31.989  unknown -0.094864   \n",
       "13         20599  1565109932090  2019-08-06T16:45:32.090  unknown  0.013718   \n",
       "14         20600  1565109932190  2019-08-06T16:45:32.190  unknown  0.067947   \n",
       "15         20601  1565109932290  2019-08-06T16:45:32.290  unknown -0.049255   \n",
       "16         20602  1565109932390  2019-08-06T16:45:32.390  unknown  0.109711   \n",
       "17         20603  1565109932491  2019-08-06T16:45:32.491  unknown  0.084793   \n",
       "18         20604  1565109932591  2019-08-06T16:45:32.591  unknown  0.110291   \n",
       "19         20605  1565109932691  2019-08-06T16:45:32.691  unknown  0.075974   \n",
       "\n",
       "           y         z  Unnamed: 0_y               UTC time_y  label  \n",
       "0  -0.934860 -0.069046           NaN                      NaN    NaN  \n",
       "1  -1.015442  0.089554           NaN                      NaN    NaN  \n",
       "2  -1.021255  0.178467           NaN                      NaN    NaN  \n",
       "3  -0.987701  0.068985       20589.0  2019-08-06T16:45:31.087    1.0  \n",
       "4  -1.003616  0.126450           NaN                      NaN    NaN  \n",
       "5  -0.967575  0.170898           NaN                      NaN    NaN  \n",
       "6  -0.982330  0.235565           NaN                      NaN    NaN  \n",
       "7  -1.053207  0.256714           NaN                      NaN    NaN  \n",
       "8  -0.972794  0.356308           NaN                      NaN    NaN  \n",
       "9  -0.890533  0.223221           NaN                      NaN    NaN  \n",
       "10 -0.893982  0.264236           NaN                      NaN    NaN  \n",
       "11 -0.902725  0.137680           NaN                      NaN    NaN  \n",
       "12 -1.197876  0.128494           NaN                      NaN    NaN  \n",
       "13 -0.852371 -0.000870       20599.0  2019-08-06T16:45:32.090    1.0  \n",
       "14 -0.988525  0.034973           NaN                      NaN    NaN  \n",
       "15 -1.031082  0.008942           NaN                      NaN    NaN  \n",
       "16 -0.992325 -0.090561           NaN                      NaN    NaN  \n",
       "17 -1.001282 -0.077515           NaN                      NaN    NaN  \n",
       "18 -1.010025 -0.080536           NaN                      NaN    NaN  \n",
       "19 -0.990738 -0.072174           NaN                      NaN    NaN  "
      ]
     },
     "execution_count": 4,
     "metadata": {},
     "output_type": "execute_result"
    }
   ],
   "source": [
    "df = pd.merge(df_trts,df_trl, on=['timestamp'], how = 'left')\n",
    "df.head(20)"
   ]
  },
  {
   "cell_type": "markdown",
   "metadata": {},
   "source": [
    "# Exploring dataset\n",
    "Graph of both unlabeled train data and labeled train data\n"
   ]
  },
  {
   "cell_type": "code",
   "execution_count": 5,
   "metadata": {},
   "outputs": [
    {
     "data": {
      "text/plain": [
       "Text(0.5, 1.0, 'Unlabeled Train data')"
      ]
     },
     "execution_count": 5,
     "metadata": {},
     "output_type": "execute_result"
    },
    {
     "data": {
      "image/png": "[encoded data removed]",
      "text/plain": [
       "<Figure size 1800x576 with 1 Axes>"
      ]
     },
     "metadata": {
      "needs_background": "light"
     },
     "output_type": "display_data"
    }
   ],
   "source": [
    "x = df['x']\n",
    "y = df['y']\n",
    "z = df['z']\n",
    "plt.figure(figsize=(25,8))\n",
    "plt.plot(range(df.shape[0]),x, color ='red',label = 'x')\n",
    "plt.plot(range(df.shape[0]),y, color ='green',label = 'y')\n",
    "plt.plot(range(df.shape[0]),z, color ='blue',label = 'z')\n",
    "plt.legend()\n",
    "plt.title('Unlabeled Train data')"
   ]
  },
  {
   "cell_type": "code",
   "execution_count": 6,
   "metadata": {},
   "outputs": [
    {
     "data": {
      "text/plain": [
       "Text(0.5, 1.0, 'Labeled Train data')"
      ]
     },
     "execution_count": 6,
     "metadata": {},
     "output_type": "execute_result"
    },
    {
     "data": {
      "image/png": "[encoded data removed]",
      "text/plain": [
       "<Figure size 1800x576 with 1 Axes>"
      ]
     },
     "metadata": {
      "needs_background": "light"
     },
     "output_type": "display_data"
    }
   ],
   "source": [
    "x = df['label']\n",
    "plt.figure(figsize=(25,8))\n",
    "plt.plot(range(x.shape[0]),x,'o',color ='red',label = 'movement label')\n",
    "plt.legend()\n",
    "plt.title('Labeled Train data')"
   ]
  },
  {
   "cell_type": "markdown",
   "metadata": {},
   "source": [
    "Since labels are provided on a 1Hz frequency and accelerometer data is provided in a 10hz frequency\n",
    "I decided to fill de label column in the dataset with the corresponding label por the corresponding second.\n",
    "Then I keep just the columns of interest"
   ]
  },
  {
   "cell_type": "code",
   "execution_count": 7,
   "metadata": {},
   "outputs": [],
   "source": [
    "df['label']= df['label'].where(df['label'].notnull(), \n",
    "                                other=df['label'].fillna(method='ffill'))\n",
    "df = df[['timestamp','UTC time_x','x','y','z','label']]"
   ]
  },
  {
   "cell_type": "code",
   "execution_count": 8,
   "metadata": {},
   "outputs": [
    {
     "data": {
      "text/html": [
       "<div>\n",
       "<style scoped>\n",
       "    .dataframe tbody tr th:only-of-type {\n",
       "        vertical-align: middle;\n",
       "    }\n",
       "\n",
       "    .dataframe tbody tr th {\n",
       "        vertical-align: top;\n",
       "    }\n",
       "\n",
       "    .dataframe thead th {\n",
       "        text-align: right;\n",
       "    }\n",
       "</style>\n",
       "<table border=\"1\" class=\"dataframe\">\n",
       "  <thead>\n",
       "    <tr style=\"text-align: right;\">\n",
       "      <th></th>\n",
       "      <th>timestamp</th>\n",
       "      <th>UTC time_x</th>\n",
       "      <th>x</th>\n",
       "      <th>y</th>\n",
       "      <th>z</th>\n",
       "      <th>label</th>\n",
       "    </tr>\n",
       "  </thead>\n",
       "  <tbody>\n",
       "    <tr>\n",
       "      <th>0</th>\n",
       "      <td>1565109930787</td>\n",
       "      <td>2019-08-06T16:45:30.787</td>\n",
       "      <td>-0.006485</td>\n",
       "      <td>-0.934860</td>\n",
       "      <td>-0.069046</td>\n",
       "      <td>NaN</td>\n",
       "    </tr>\n",
       "    <tr>\n",
       "      <th>1</th>\n",
       "      <td>1565109930887</td>\n",
       "      <td>2019-08-06T16:45:30.887</td>\n",
       "      <td>-0.066467</td>\n",
       "      <td>-1.015442</td>\n",
       "      <td>0.089554</td>\n",
       "      <td>NaN</td>\n",
       "    </tr>\n",
       "    <tr>\n",
       "      <th>2</th>\n",
       "      <td>1565109930987</td>\n",
       "      <td>2019-08-06T16:45:30.987</td>\n",
       "      <td>-0.043488</td>\n",
       "      <td>-1.021255</td>\n",
       "      <td>0.178467</td>\n",
       "      <td>NaN</td>\n",
       "    </tr>\n",
       "    <tr>\n",
       "      <th>3</th>\n",
       "      <td>1565109931087</td>\n",
       "      <td>2019-08-06T16:45:31.087</td>\n",
       "      <td>-0.053802</td>\n",
       "      <td>-0.987701</td>\n",
       "      <td>0.068985</td>\n",
       "      <td>1.0</td>\n",
       "    </tr>\n",
       "    <tr>\n",
       "      <th>4</th>\n",
       "      <td>1565109931188</td>\n",
       "      <td>2019-08-06T16:45:31.188</td>\n",
       "      <td>-0.054031</td>\n",
       "      <td>-1.003616</td>\n",
       "      <td>0.126450</td>\n",
       "      <td>1.0</td>\n",
       "    </tr>\n",
       "  </tbody>\n",
       "</table>\n",
       "</div>"
      ],
      "text/plain": [
       "       timestamp               UTC time_x         x         y         z  label\n",
       "0  1565109930787  2019-08-06T16:45:30.787 -0.006485 -0.934860 -0.069046    NaN\n",
       "1  1565109930887  2019-08-06T16:45:30.887 -0.066467 -1.015442  0.089554    NaN\n",
       "2  1565109930987  2019-08-06T16:45:30.987 -0.043488 -1.021255  0.178467    NaN\n",
       "3  1565109931087  2019-08-06T16:45:31.087 -0.053802 -0.987701  0.068985    1.0\n",
       "4  1565109931188  2019-08-06T16:45:31.188 -0.054031 -1.003616  0.126450    1.0"
      ]
     },
     "execution_count": 8,
     "metadata": {},
     "output_type": "execute_result"
    }
   ],
   "source": [
    "df.head()"
   ]
  },
  {
   "cell_type": "code",
   "execution_count": 9,
   "metadata": {},
   "outputs": [
    {
     "data": {
      "text/plain": [
       "Text(0.5, 1.0, 'Labeled Train Data Full Dataset')"
      ]
     },
     "execution_count": 9,
     "metadata": {},
     "output_type": "execute_result"
    },
    {
     "data": {
      "image/png": "[encoded data removed]",
      "text/plain": [
       "<Figure size 1800x576 with 1 Axes>"
      ]
     },
     "metadata": {
      "needs_background": "light"
     },
     "output_type": "display_data"
    }
   ],
   "source": [
    "x = df['label']\n",
    "plt.figure(figsize=(25,8))\n",
    "plt.plot(range(x.shape[0]),x,'x',color ='orange',label = 'movement label')\n",
    "plt.legend()\n",
    "plt.title('Labeled Train Data Full Dataset')"
   ]
  },
  {
   "cell_type": "markdown",
   "metadata": {},
   "source": [
    "# Movelet dictionary\n",
    "I define a function to generate the movelet dictionary"
   ]
  },
  {
   "cell_type": "code",
   "execution_count": 10,
   "metadata": {},
   "outputs": [],
   "source": [
    "def movelet_dict_generator (dataframes,columns):\n",
    "    '''this function takes a list of dataframes each one chosen for being representative of\n",
    "    a given movement (label) and the columns of interest(ie. x, y, z,label) \n",
    "    to be used to generate de movelet dictionary'''\n",
    "    movelet_dict = pd.DataFrame(columns = columns)\n",
    "    for d in dataframes:\n",
    "        movelet_dictionary =pd.DataFrame(columns = columns)\n",
    "        for c in columns:\n",
    "            i = 0\n",
    "            j = 10\n",
    "            movelet_column = []\n",
    "            for n in range(d.shape[0]-10):\n",
    "                movelet_column.append(d[c][i:j])\n",
    "                i+=1\n",
    "                j+=1\n",
    "            movelet_dictionary[c] = movelet_column   \n",
    "        movelet_dict = movelet_dict.append(movelet_dictionary,ignore_index=True)\n",
    "    movelet_dict['label'].loc[0:80] = 1\n",
    "    movelet_dict['label'].loc[80:160]= 2\n",
    "    movelet_dict['label'].loc[160:240]= 3\n",
    "    movelet_dict['label'].loc[240:320]= 4\n",
    "    return movelet_dict\n"
   ]
  },
  {
   "cell_type": "markdown",
   "metadata": {},
   "source": [
    "I define the dataframes which represent each movement label and run the function to generate de movelet dictionary"
   ]
  },
  {
   "cell_type": "code",
   "execution_count": 11,
   "metadata": {},
   "outputs": [],
   "source": [
    "dflabel1 = df[0:90]\n",
    "dflabel2 = df[260:350]\n",
    "dflabel3 = df[1740:1830]\n",
    "dflabel4 = df[1200:1290]\n",
    "dataframes = [dflabel1,dflabel2,dflabel3,dflabel4]\n",
    "\n",
    "movelet_dict_xyz = movelet_dict_generator(dataframes,['x','y','z','label'])"
   ]
  },
  {
   "cell_type": "code",
   "execution_count": 12,
   "metadata": {},
   "outputs": [
    {
     "data": {
      "text/html": [
       "<div>\n",
       "<style scoped>\n",
       "    .dataframe tbody tr th:only-of-type {\n",
       "        vertical-align: middle;\n",
       "    }\n",
       "\n",
       "    .dataframe tbody tr th {\n",
       "        vertical-align: top;\n",
       "    }\n",
       "\n",
       "    .dataframe thead th {\n",
       "        text-align: right;\n",
       "    }\n",
       "</style>\n",
       "<table border=\"1\" class=\"dataframe\">\n",
       "  <thead>\n",
       "    <tr style=\"text-align: right;\">\n",
       "      <th></th>\n",
       "      <th>x</th>\n",
       "      <th>y</th>\n",
       "      <th>z</th>\n",
       "      <th>label</th>\n",
       "    </tr>\n",
       "  </thead>\n",
       "  <tbody>\n",
       "    <tr>\n",
       "      <th>0</th>\n",
       "      <td>0   -0.006485\n",
       "1   -0.066467\n",
       "2   -0.043488\n",
       "3   ...</td>\n",
       "      <td>0   -0.934860\n",
       "1   -1.015442\n",
       "2   -1.021255\n",
       "3   ...</td>\n",
       "      <td>0   -0.069046\n",
       "1    0.089554\n",
       "2    0.178467\n",
       "3   ...</td>\n",
       "      <td>1</td>\n",
       "    </tr>\n",
       "    <tr>\n",
       "      <th>1</th>\n",
       "      <td>1    -0.066467\n",
       "2    -0.043488\n",
       "3    -0.053802\n",
       "4...</td>\n",
       "      <td>1    -1.015442\n",
       "2    -1.021255\n",
       "3    -0.987701\n",
       "4...</td>\n",
       "      <td>1     0.089554\n",
       "2     0.178467\n",
       "3     0.068985\n",
       "4...</td>\n",
       "      <td>1</td>\n",
       "    </tr>\n",
       "    <tr>\n",
       "      <th>2</th>\n",
       "      <td>2    -0.043488\n",
       "3    -0.053802\n",
       "4    -0.054031\n",
       "5...</td>\n",
       "      <td>2    -1.021255\n",
       "3    -0.987701\n",
       "4    -1.003616\n",
       "5...</td>\n",
       "      <td>2     0.178467\n",
       "3     0.068985\n",
       "4     0.126450\n",
       "5...</td>\n",
       "      <td>1</td>\n",
       "    </tr>\n",
       "    <tr>\n",
       "      <th>3</th>\n",
       "      <td>3    -0.053802\n",
       "4    -0.054031\n",
       "5    -0.010880\n",
       "6...</td>\n",
       "      <td>3    -0.987701\n",
       "4    -1.003616\n",
       "5    -0.967575\n",
       "6...</td>\n",
       "      <td>3     0.068985\n",
       "4     0.126450\n",
       "5     0.170898\n",
       "6...</td>\n",
       "      <td>1</td>\n",
       "    </tr>\n",
       "    <tr>\n",
       "      <th>4</th>\n",
       "      <td>4    -0.054031\n",
       "5    -0.010880\n",
       "6     0.052841\n",
       "7...</td>\n",
       "      <td>4    -1.003616\n",
       "5    -0.967575\n",
       "6    -0.982330\n",
       "7...</td>\n",
       "      <td>4     0.126450\n",
       "5     0.170898\n",
       "6     0.235565\n",
       "7...</td>\n",
       "      <td>1</td>\n",
       "    </tr>\n",
       "  </tbody>\n",
       "</table>\n",
       "</div>"
      ],
      "text/plain": [
       "                                                   x  \\\n",
       "0  0   -0.006485\n",
       "1   -0.066467\n",
       "2   -0.043488\n",
       "3   ...   \n",
       "1  1    -0.066467\n",
       "2    -0.043488\n",
       "3    -0.053802\n",
       "4...   \n",
       "2  2    -0.043488\n",
       "3    -0.053802\n",
       "4    -0.054031\n",
       "5...   \n",
       "3  3    -0.053802\n",
       "4    -0.054031\n",
       "5    -0.010880\n",
       "6...   \n",
       "4  4    -0.054031\n",
       "5    -0.010880\n",
       "6     0.052841\n",
       "7...   \n",
       "\n",
       "                                                   y  \\\n",
       "0  0   -0.934860\n",
       "1   -1.015442\n",
       "2   -1.021255\n",
       "3   ...   \n",
       "1  1    -1.015442\n",
       "2    -1.021255\n",
       "3    -0.987701\n",
       "4...   \n",
       "2  2    -1.021255\n",
       "3    -0.987701\n",
       "4    -1.003616\n",
       "5...   \n",
       "3  3    -0.987701\n",
       "4    -1.003616\n",
       "5    -0.967575\n",
       "6...   \n",
       "4  4    -1.003616\n",
       "5    -0.967575\n",
       "6    -0.982330\n",
       "7...   \n",
       "\n",
       "                                                   z  label  \n",
       "0  0   -0.069046\n",
       "1    0.089554\n",
       "2    0.178467\n",
       "3   ...      1  \n",
       "1  1     0.089554\n",
       "2     0.178467\n",
       "3     0.068985\n",
       "4...      1  \n",
       "2  2     0.178467\n",
       "3     0.068985\n",
       "4     0.126450\n",
       "5...      1  \n",
       "3  3     0.068985\n",
       "4     0.126450\n",
       "5     0.170898\n",
       "6...      1  \n",
       "4  4     0.126450\n",
       "5     0.170898\n",
       "6     0.235565\n",
       "7...      1  "
      ]
     },
     "execution_count": 12,
     "metadata": {},
     "output_type": "execute_result"
    }
   ],
   "source": [
    "movelet_dict_xyz.head()"
   ]
  },
  {
   "cell_type": "markdown",
   "metadata": {},
   "source": [
    "# Prediction function\n",
    "I define a function to predict the labels of test data. It calculates the square difference between the unlabeled movement accelerometer data (10 measurements for each axis) and all the movelets on the movelet dictionary to find the movelet which resembles the most."
   ]
  },
  {
   "cell_type": "code",
   "execution_count": 13,
   "metadata": {},
   "outputs": [],
   "source": [
    "def mov_prediction(test_dataframe,movelet_dict,samples_per_label,axes):\n",
    "    '''this function takes a test dataframe a movelet dict, a number of samples per label (frequency of accelerometer\n",
    "    data collection) and a list of axes to be considered for the comparison with the movelet dict. It returns a list \n",
    "    of predicted labels'''\n",
    "    labels = []    \n",
    "    i = 0\n",
    "    j = samples_per_label - 1\n",
    "    for each in range(test_dataframe.shape[0]//samples_per_label):\n",
    "        df_diff = pd.DataFrame(columns = axes)\n",
    "        for a in axes:\n",
    "            test_movelet = test_dataframe[a].loc[i:j].reset_index(drop = True)\n",
    "            difference = []\n",
    "            for n in range(movelet_dict.shape[0]):\n",
    "                movelet_from_dict = movelet_dict[a][n].reset_index(drop=True)\n",
    "                diff = sum(np.subtract(movelet_from_dict,test_movelet)**2)\n",
    "                difference.append(diff)\n",
    "            df_diff[a] = difference\n",
    "        df_diff['total_diff'] = df_diff.sum(axis =1)\n",
    "        min_loc = df_diff['total_diff'].idxmin()\n",
    "        lb = movelet_dict['label'][min_loc]\n",
    "        labels.append(lb)\n",
    "        i+=10\n",
    "        j+=10\n",
    "    return labels"
   ]
  },
  {
   "cell_type": "markdown",
   "metadata": {},
   "source": [
    "# Smoothing function\n",
    "I define a Function to smooth the label list taking into account that movement last at least 3 seconds so abrupt movement changes are due to prediction inaccuracy and not to real movement changes"
   ]
  },
  {
   "cell_type": "code",
   "execution_count": 14,
   "metadata": {},
   "outputs": [],
   "source": [
    "def smooth_labels (series,neighbors):\n",
    "    '''this function takes a dataframe series corresponding to the predicted labels\n",
    "    and a number of neighbor labels to smooth the predicted labels based on the fact that movements\n",
    "    last at least a couple of seconds. It returns a smoothed list of labels'''\n",
    "    smooth_labels = []\n",
    "    neighbors = neighbors\n",
    "    smooth_labels[0:0] = series.loc[0:neighbors]\n",
    "    series = series.values    \n",
    "    for i in range (neighbors,len(series)-neighbors):\n",
    "        if any(x!=series[i] for x in smooth_labels[i-neighbors:i]) and any (y!=series[i] for y in series[i+1:i+1+neighbors]):\n",
    "            smooth_labels.append(smooth_labels[i-neighbors])\n",
    "            #smooth_labels.append(series[i+1])\n",
    "            #smooth_labels.append(series[i+1])\n",
    "        else:\n",
    "            smooth_labels.append(series[i])\n",
    "    for j in range (len(series)-neighbors,len(series)-1):\n",
    "        smooth_labels.append(series[j])\n",
    "    return smooth_labels"
   ]
  },
  {
   "cell_type": "markdown",
   "metadata": {},
   "source": [
    "# Testing prediction on labeled data\n",
    "I will generate a test dataframe sampling some data from the train dataset, even if this is not the best option, due to the nature of the prediction algorithm it is a good option for testing"
   ]
  },
  {
   "cell_type": "markdown",
   "metadata": {},
   "source": [
    "I define an accuracy function which gives the general accuracy and the accuracy for each label"
   ]
  },
  {
   "cell_type": "code",
   "execution_count": 15,
   "metadata": {},
   "outputs": [],
   "source": [
    "def accu(train_label,predicted_label):\n",
    "    accu = (np.sum(train_label==predicted_label))/predicted_label.shape[0]\n",
    "    return accu\n",
    "\n",
    "def differential_accuracy (dataframe,true_value_column,predicted_value_column,label_list):\n",
    "    print('overall accuracy:',accu(dataframe[true_value_column],dataframe[predicted_value_column]))\n",
    "    accuracies = []\n",
    "    for l in label_list:\n",
    "        dataframe_label = dataframe[dataframe[true_value_column] == l]\n",
    "        acc = accu(dataframe_label[true_value_column],dataframe_label[predicted_value_column])\n",
    "        accuracies.append([l,acc])\n",
    "        print('label',l,':',acc)"
   ]
  },
  {
   "cell_type": "raw",
   "metadata": {},
   "source": [
    "I create a test dataset based on handpicked rows from the training dataset"
   ]
  },
  {
   "cell_type": "code",
   "execution_count": 100,
   "metadata": {},
   "outputs": [],
   "source": [
    "self_test_df_timestamp_list = [1565109945119, 1565109945220, 1565109945320, 1565109945420, 1565109945520, 1565109945621, 1565109945721, 1565109945821, 1565109945921, 1565109946022, 1565109946122, 1565109946222, 1565109946322, 1565109946422, 1565109946523, 1565109946623, 1565109946723, 1565109946823, 1565109946924, 1565109947024, 1565109947124, 1565109947224, 1565109947325, 1565109947425, 1565109947525, 1565109947625, 1565109947725, 1565109947826, 1565109947926, 1565109948026, 1565109954140, 1565109954240, 1565109954341, 1565109954441, 1565109954541, 1565109954641, 1565109954742, 1565109954842, 1565109954942, 1565109955042, 1565109955142, 1565109955243, 1565109955343, 1565109955443, 1565109955543, 1565109955644, 1565109955744, 1565109955844, 1565109955944, 1565109956044, 1565109956145, 1565109956245, 1565109956345, 1565109956445, 1565109956546, 1565109956646, 1565109956746, 1565109956846, 1565109956947, 1565109957047, 1565109969175, 1565109969275, 1565109969375, 1565109969475, 1565109969575, 1565109969676, 1565109969776, 1565109969876, 1565109969976, 1565109970077, 1565109970177, 1565109970277, 1565109970377, 1565109970477, 1565109970578, 1565109970678, 1565109970778, 1565109970878, 1565109970979, 1565109971079, 1565109990223, 1565109990323, 1565109990423, 1565109990523, 1565109990624, 1565109990724, 1565109990824, 1565109990924, 1565109991024, 1565109991125, 1565109991225, 1565109991325, 1565109991425, 1565109991526, 1565109991626, 1565109991726, 1565109991826, 1565109991927, 1565109992027, 1565109992127, 1565110008264, 1565110008364, 1565110008464, 1565110008564, 1565110008665, 1565110008765, 1565110008865, 1565110008965, 1565110009066, 1565110009166, 1565110009266, 1565110009366, 1565110009467, 1565110009567, 1565110009667, 1565110009767, 1565110009867, 1565110009968, 1565110010068, 1565110010168, 1565110010268, 1565110010369, 1565110010469, 1565110010569, 1565110010669, 1565110010770, 1565110010870, 1565110010970, 1565110011070, 1565110011170, 1565110011271, 1565110011371, 1565110011471, 1565110011571, 1565110011672, 1565110011772, 1565110011872, 1565110011972, 1565110012072, 1565110012173, 1565110059474, 1565110059574, 1565110059674, 1565110059774, 1565110059875, 1565110059975, 1565110060075, 1565110060175, 1565110060275, 1565110060376, 1565110060476, 1565110060576, 1565110060676, 1565110060777, 1565110060877, 1565110060977, 1565110061077, 1565110061178, 1565110061278, 1565110061378, 1565110061478, 1565110061578, 1565110061679, 1565110061779, 1565110061879, 1565110061979, 1565110062080, 1565110062180, 1565110062280, 1565110062380, 1565110062481, 1565110062581, 1565110062681, 1565110062781, 1565110062881, 1565110062982, 1565110063082, 1565110063182, 1565110063282, 1565110063383, 1565110063483, 1565110063583, 1565110063683, 1565110063784, 1565110063884, 1565110063984, 1565110064084, 1565110064184, 1565110064285, 1565110064385, 1565110064485, 1565110064585, 1565110064686, 1565110064786, 1565110064886, 1565110064986, 1565110065086, 1565110065187, 1565110065287, 1565110065387, 1565110068494, 1565110068595, 1565110068695, 1565110068795, 1565110068895, 1565110068995, 1565110069096, 1565110069196, 1565110069296, 1565110069396, 1565110069497, 1565110069597, 1565110069697, 1565110069797, 1565110069897, 1565110069998, 1565110070098, 1565110070198, 1565110070298, 1565110070399, 1565110070499, 1565110070599, 1565110070699, 1565110070800, 1565110070900, 1565110071000, 1565110071100, 1565110071200, 1565110071301, 1565110071401, 1565110082526, 1565110082627, 1565110082727, 1565110082827, 1565110082927, 1565110083028, 1565110083128, 1565110083228, 1565110083328, 1565110083428, 1565110083529, 1565110083629, 1565110083729, 1565110083829, 1565110083930, 1565110084030, 1565110084130, 1565110084230, 1565110084331, 1565110084431, 1565110088540, 1565110088640, 1565110088741, 1565110088841, 1565110088941, 1565110089041, 1565110089142, 1565110089242, 1565110089342, 1565110089442, 1565110089542, 1565110089643, 1565110089743, 1565110089843, 1565110089943, 1565110090044, 1565110090144, 1565110090244, 1565110090344, 1565110090445, 1565110090545, 1565110090645, 1565110090745, 1565110090845, 1565110090946, 1565110091046, 1565110091146, 1565110091246, 1565110091347, 1565110091447, 1565110091547, 1565110091647, 1565110091748, 1565110091848, 1565110091948, 1565110092048, 1565110092148, 1565110092249, 1565110092349, 1565110092449, 1565110092549, 1565110092650, 1565110092750, 1565110092850, 1565110092950, 1565110093051, 1565110093151, 1565110093251, 1565110093351, 1565110093451, 1565110093552, 1565110093652, 1565110093752, 1565110093852, 1565110093953, 1565110094053, 1565110094153, 1565110094253, 1565110094353, 1565110094454, 1565110094554, 1565110094654, 1565110094754, 1565110094855, 1565110094955, 1565110095055, 1565110095155, 1565110095256, 1565110095356, 1565110095456, 1565110095556, 1565110095656, 1565110095757, 1565110095857, 1565110095957, 1565110096057, 1565110096158, 1565110096258, 1565110096358, 1565110096458, 1565110096559, 1565110096659, 1565110096759, 1565110096859, 1565110096959, 1565110097060, 1565110097160, 1565110097260, 1565110097360, 1565110097461, 1565110097561, 1565110097661, 1565110097761, 1565110097862, 1565110097962, 1565110098062, 1565110098162, 1565110098262, 1565110098363, 1565110098463, 1565110098563, 1565110098663, 1565110098764, 1565110098864, 1565110098964, 1565110099064, 1565110099165, 1565110099265, 1565110099365, 1565110099465, 1565110099565, 1565110099666, 1565110099766, 1565110099866, 1565110099966, 1565110100067, 1565110100167, 1565110100267, 1565110100367, 1565110100467, 1565110100568, 1565110100668, 1565110100768, 1565110100868, 1565110100969, 1565110101069, 1565110101169, 1565110101269, 1565110101370, 1565110101470, 1565110101570, 1565110101670, 1565110101770, 1565110101871, 1565110101971, 1565110102071, 1565110102171, 1565110102272, 1565110102372, 1565110102472, 1565110102572, 1565110102673, 1565110102773, 1565110102873, 1565110102973, 1565110103073, 1565110103174, 1565110103274, 1565110103374, 1565110103474, 1565110214830, 1565110214930, 1565110215030, 1565110215131, 1565110215231, 1565110215331, 1565110215431, 1565110215531, 1565110215632, 1565110215732, 1565110215832, 1565110215932, 1565110216033, 1565110216133, 1565110216233, 1565110216333, 1565110216434, 1565110216534, 1565110216634, 1565110216734, 1565110216834, 1565110216935, 1565110217035, 1565110217135, 1565110217235, 1565110217336, 1565110217436, 1565110217536, 1565110217636, 1565110217737, 1565110217837, 1565110217937, 1565110218037, 1565110218137, 1565110218238, 1565110218338, 1565110218438, 1565110218538, 1565110218639, 1565110218739, 1565110218839, 1565110218939, 1565110219040, 1565110219140, 1565110219240, 1565110219340, 1565110219440, 1565110219541, 1565110219641, 1565110219741, 1565110214830, 1565110214930, 1565110215030, 1565110215131, 1565110215231, 1565110215331, 1565110215431, 1565110215531, 1565110215632, 1565110215732, 1565110215832, 1565110215932, 1565110216033, 1565110216133, 1565110216233, 1565110216333, 1565110216434, 1565110216534, 1565110216634, 1565110216734, 1565110216834, 1565110216935, 1565110217035, 1565110217135, 1565110217235, 1565110217336, 1565110217436, 1565110217536, 1565110217636, 1565110217737, 1565110217837, 1565110217937, 1565110218037, 1565110218137, 1565110218238, 1565110218338, 1565110218438, 1565110218538, 1565110218639, 1565110218739, 1565110218839, 1565110218939, 1565110219040, 1565110219140, 1565110219240, 1565110219340, 1565110219440, 1565110219541, 1565110219641, 1565110219741]"
   ]
  },
  {
   "cell_type": "code",
   "execution_count": 101,
   "metadata": {},
   "outputs": [],
   "source": [
    "self_test_df = pd.DataFrame(self_test_df_timestamp_list, columns = ['timestamp'])"
   ]
  },
  {
   "cell_type": "code",
   "execution_count": 102,
   "metadata": {},
   "outputs": [],
   "source": [
    "self_test_df = pd.merge(self_test_df,df, on=['timestamp'], how = 'left')"
   ]
  },
  {
   "cell_type": "code",
   "execution_count": 103,
   "metadata": {},
   "outputs": [
    {
     "data": {
      "text/html": [
       "<div>\n",
       "<style scoped>\n",
       "    .dataframe tbody tr th:only-of-type {\n",
       "        vertical-align: middle;\n",
       "    }\n",
       "\n",
       "    .dataframe tbody tr th {\n",
       "        vertical-align: top;\n",
       "    }\n",
       "\n",
       "    .dataframe thead th {\n",
       "        text-align: right;\n",
       "    }\n",
       "</style>\n",
       "<table border=\"1\" class=\"dataframe\">\n",
       "  <thead>\n",
       "    <tr style=\"text-align: right;\">\n",
       "      <th></th>\n",
       "      <th>timestamp</th>\n",
       "      <th>UTC time_x</th>\n",
       "      <th>x</th>\n",
       "      <th>y</th>\n",
       "      <th>z</th>\n",
       "      <th>label</th>\n",
       "    </tr>\n",
       "  </thead>\n",
       "  <tbody>\n",
       "    <tr>\n",
       "      <th>0</th>\n",
       "      <td>1565109945119</td>\n",
       "      <td>2019-08-06T16:45:45.119</td>\n",
       "      <td>0.290436</td>\n",
       "      <td>-1.083405</td>\n",
       "      <td>0.141129</td>\n",
       "      <td>2.0</td>\n",
       "    </tr>\n",
       "    <tr>\n",
       "      <th>1</th>\n",
       "      <td>1565109945220</td>\n",
       "      <td>2019-08-06T16:45:45.220</td>\n",
       "      <td>-0.265244</td>\n",
       "      <td>-1.513199</td>\n",
       "      <td>0.189316</td>\n",
       "      <td>2.0</td>\n",
       "    </tr>\n",
       "    <tr>\n",
       "      <th>2</th>\n",
       "      <td>1565109945320</td>\n",
       "      <td>2019-08-06T16:45:45.320</td>\n",
       "      <td>0.111771</td>\n",
       "      <td>-0.982285</td>\n",
       "      <td>0.323990</td>\n",
       "      <td>2.0</td>\n",
       "    </tr>\n",
       "    <tr>\n",
       "      <th>3</th>\n",
       "      <td>1565109945420</td>\n",
       "      <td>2019-08-06T16:45:45.420</td>\n",
       "      <td>0.138489</td>\n",
       "      <td>-0.554642</td>\n",
       "      <td>0.186050</td>\n",
       "      <td>2.0</td>\n",
       "    </tr>\n",
       "    <tr>\n",
       "      <th>4</th>\n",
       "      <td>1565109945520</td>\n",
       "      <td>2019-08-06T16:45:45.520</td>\n",
       "      <td>-0.024078</td>\n",
       "      <td>-0.420502</td>\n",
       "      <td>0.173630</td>\n",
       "      <td>2.0</td>\n",
       "    </tr>\n",
       "  </tbody>\n",
       "</table>\n",
       "</div>"
      ],
      "text/plain": [
       "       timestamp               UTC time_x         x         y         z  label\n",
       "0  1565109945119  2019-08-06T16:45:45.119  0.290436 -1.083405  0.141129    2.0\n",
       "1  1565109945220  2019-08-06T16:45:45.220 -0.265244 -1.513199  0.189316    2.0\n",
       "2  1565109945320  2019-08-06T16:45:45.320  0.111771 -0.982285  0.323990    2.0\n",
       "3  1565109945420  2019-08-06T16:45:45.420  0.138489 -0.554642  0.186050    2.0\n",
       "4  1565109945520  2019-08-06T16:45:45.520 -0.024078 -0.420502  0.173630    2.0"
      ]
     },
     "execution_count": 103,
     "metadata": {},
     "output_type": "execute_result"
    }
   ],
   "source": [
    "self_test_df.head()"
   ]
  },
  {
   "cell_type": "code",
   "execution_count": 104,
   "metadata": {},
   "outputs": [],
   "source": [
    "labels_st = mov_prediction(self_test_df,movelet_dict_xyz,10,['x','y','z'])"
   ]
  },
  {
   "cell_type": "code",
   "execution_count": 105,
   "metadata": {},
   "outputs": [
    {
     "data": {
      "text/plain": [
       "50"
      ]
     },
     "execution_count": 105,
     "metadata": {},
     "output_type": "execute_result"
    }
   ],
   "source": [
    "len(labels_st)"
   ]
  },
  {
   "cell_type": "code",
   "execution_count": 106,
   "metadata": {},
   "outputs": [],
   "source": [
    "self_test_df_labeled = pd.DataFrame()"
   ]
  },
  {
   "cell_type": "code",
   "execution_count": 107,
   "metadata": {},
   "outputs": [],
   "source": [
    "i = 9\n",
    "for j in range(50):\n",
    "    row = pd.Series(self_test_df.loc[i])\n",
    "    self_test_df_labeled = self_test_df_labeled.append(row )\n",
    "    i+=10"
   ]
  },
  {
   "cell_type": "code",
   "execution_count": 108,
   "metadata": {},
   "outputs": [],
   "source": [
    "self_test_df_labeled=self_test_df_labeled.reset_index()"
   ]
  },
  {
   "cell_type": "code",
   "execution_count": 109,
   "metadata": {},
   "outputs": [],
   "source": [
    "self_test_df_labeled['labels_st'] = labels_st"
   ]
  },
  {
   "cell_type": "markdown",
   "metadata": {},
   "source": [
    "I determine the accuracy in the prediction before smoothing"
   ]
  },
  {
   "cell_type": "code",
   "execution_count": 110,
   "metadata": {},
   "outputs": [
    {
     "name": "stdout",
     "output_type": "stream",
     "text": [
      "overall accuracy: 0.84\n",
      "label 1 : 1.0\n",
      "label 2 : 0.7142857142857143\n",
      "label 3 : 0.8846153846153846\n",
      "label 4 : 0.8333333333333334\n"
     ]
    }
   ],
   "source": [
    "differential_accuracy(self_test_df_labeled,'label','labels_st',[1,2,3,4])"
   ]
  },
  {
   "cell_type": "code",
   "execution_count": 117,
   "metadata": {},
   "outputs": [
    {
     "data": {
      "text/plain": [
       "Text(0.5, 1.0, 'Predicted labels')"
      ]
     },
     "execution_count": 117,
     "metadata": {},
     "output_type": "execute_result"
    },
    {
     "data": {
      "image/png": "[encoded data removed]",
      "text/plain": [
       "<Figure size 1800x576 with 1 Axes>"
      ]
     },
     "metadata": {
      "needs_background": "light"
     },
     "output_type": "display_data"
    }
   ],
   "source": [
    "plt.figure(figsize=(25,8))\n",
    "plt.plot(range(50),labels_st,'X',color = 'blue')\n",
    "plt.title('Predicted labels')"
   ]
  },
  {
   "cell_type": "markdown",
   "metadata": {},
   "source": [
    "Some points look inconsistent with the time interval series, so smoothing is a good option for improving accuracy"
   ]
  },
  {
   "cell_type": "markdown",
   "metadata": {},
   "source": [
    "I run the smoothing function on the data"
   ]
  },
  {
   "cell_type": "code",
   "execution_count": 111,
   "metadata": {},
   "outputs": [],
   "source": [
    "test_label_p_smoothed = smooth_labels(pd.Series(labels_st),2)"
   ]
  },
  {
   "cell_type": "code",
   "execution_count": 112,
   "metadata": {},
   "outputs": [],
   "source": [
    "self_test_df_labeled['labels_stsm'] = test_label_p_smoothed "
   ]
  },
  {
   "cell_type": "markdown",
   "metadata": {},
   "source": [
    "I run the accuracy function on the smoothed data"
   ]
  },
  {
   "cell_type": "code",
   "execution_count": 113,
   "metadata": {},
   "outputs": [
    {
     "name": "stdout",
     "output_type": "stream",
     "text": [
      "overall accuracy: 0.92\n",
      "label 1 : 1.0\n",
      "label 2 : 0.9285714285714286\n",
      "label 3 : 0.9230769230769231\n",
      "label 4 : 0.8333333333333334\n"
     ]
    }
   ],
   "source": [
    "differential_accuracy(self_test_df_labeled,'label','labels_stsm',[1,2,3,4])"
   ]
  },
  {
   "cell_type": "code",
   "execution_count": 118,
   "metadata": {},
   "outputs": [
    {
     "data": {
      "text/plain": [
       "Text(0.5, 1.0, 'Predicted smoothed labels')"
      ]
     },
     "execution_count": 118,
     "metadata": {},
     "output_type": "execute_result"
    },
    {
     "data": {
      "image/png": "[encoded data removed]",
      "text/plain": [
       "<Figure size 1800x576 with 1 Axes>"
      ]
     },
     "metadata": {
      "needs_background": "light"
     },
     "output_type": "display_data"
    }
   ],
   "source": [
    "plt.figure(figsize=(25,8))\n",
    "plt.plot(range(50),test_label_p_smoothed,'o',color = 'orange')\n",
    "plt.title('Predicted smoothed labels')"
   ]
  },
  {
   "cell_type": "markdown",
   "metadata": {},
   "source": [
    "Smoothing has improved accuracy and consistency accross time intervals looks much better"
   ]
  },
  {
   "cell_type": "markdown",
   "metadata": {},
   "source": [
    "# Test Dataframe\n",
    "I generate the test dataframe importing the csv file"
   ]
  },
  {
   "cell_type": "code",
   "execution_count": 20,
   "metadata": {},
   "outputs": [
    {
     "data": {
      "text/html": [
       "<div>\n",
       "<style scoped>\n",
       "    .dataframe tbody tr th:only-of-type {\n",
       "        vertical-align: middle;\n",
       "    }\n",
       "\n",
       "    .dataframe tbody tr th {\n",
       "        vertical-align: top;\n",
       "    }\n",
       "\n",
       "    .dataframe thead th {\n",
       "        text-align: right;\n",
       "    }\n",
       "</style>\n",
       "<table border=\"1\" class=\"dataframe\">\n",
       "  <thead>\n",
       "    <tr style=\"text-align: right;\">\n",
       "      <th></th>\n",
       "      <th>Unnamed: 0</th>\n",
       "      <th>timestamp</th>\n",
       "      <th>UTC time</th>\n",
       "      <th>accuracy</th>\n",
       "      <th>x</th>\n",
       "      <th>y</th>\n",
       "      <th>z</th>\n",
       "    </tr>\n",
       "  </thead>\n",
       "  <tbody>\n",
       "    <tr>\n",
       "      <th>0</th>\n",
       "      <td>24330</td>\n",
       "      <td>1565110306139</td>\n",
       "      <td>2019-08-06T16:51:46.139</td>\n",
       "      <td>unknown</td>\n",
       "      <td>0.034286</td>\n",
       "      <td>-1.504456</td>\n",
       "      <td>0.157623</td>\n",
       "    </tr>\n",
       "    <tr>\n",
       "      <th>1</th>\n",
       "      <td>24331</td>\n",
       "      <td>1565110306239</td>\n",
       "      <td>2019-08-06T16:51:46.239</td>\n",
       "      <td>unknown</td>\n",
       "      <td>0.409164</td>\n",
       "      <td>-1.038544</td>\n",
       "      <td>0.030975</td>\n",
       "    </tr>\n",
       "    <tr>\n",
       "      <th>2</th>\n",
       "      <td>24332</td>\n",
       "      <td>1565110306340</td>\n",
       "      <td>2019-08-06T16:51:46.340</td>\n",
       "      <td>unknown</td>\n",
       "      <td>-0.234390</td>\n",
       "      <td>-0.984558</td>\n",
       "      <td>0.124771</td>\n",
       "    </tr>\n",
       "    <tr>\n",
       "      <th>3</th>\n",
       "      <td>24333</td>\n",
       "      <td>1565110306440</td>\n",
       "      <td>2019-08-06T16:51:46.440</td>\n",
       "      <td>unknown</td>\n",
       "      <td>0.251114</td>\n",
       "      <td>-0.787003</td>\n",
       "      <td>0.054810</td>\n",
       "    </tr>\n",
       "    <tr>\n",
       "      <th>4</th>\n",
       "      <td>24334</td>\n",
       "      <td>1565110306540</td>\n",
       "      <td>2019-08-06T16:51:46.540</td>\n",
       "      <td>unknown</td>\n",
       "      <td>0.109924</td>\n",
       "      <td>-0.169510</td>\n",
       "      <td>0.235550</td>\n",
       "    </tr>\n",
       "  </tbody>\n",
       "</table>\n",
       "</div>"
      ],
      "text/plain": [
       "   Unnamed: 0      timestamp                 UTC time accuracy         x  \\\n",
       "0       24330  1565110306139  2019-08-06T16:51:46.139  unknown  0.034286   \n",
       "1       24331  1565110306239  2019-08-06T16:51:46.239  unknown  0.409164   \n",
       "2       24332  1565110306340  2019-08-06T16:51:46.340  unknown -0.234390   \n",
       "3       24333  1565110306440  2019-08-06T16:51:46.440  unknown  0.251114   \n",
       "4       24334  1565110306540  2019-08-06T16:51:46.540  unknown  0.109924   \n",
       "\n",
       "          y         z  \n",
       "0 -1.504456  0.157623  \n",
       "1 -1.038544  0.030975  \n",
       "2 -0.984558  0.124771  \n",
       "3 -0.787003  0.054810  \n",
       "4 -0.169510  0.235550  "
      ]
     },
     "execution_count": 20,
     "metadata": {},
     "output_type": "execute_result"
    }
   ],
   "source": [
    "df_test_ts = pd.read_csv('test_time_series.csv')\n",
    "df_test_ts.head()"
   ]
  },
  {
   "cell_type": "code",
   "execution_count": 21,
   "metadata": {},
   "outputs": [
    {
     "data": {
      "text/html": [
       "<div>\n",
       "<style scoped>\n",
       "    .dataframe tbody tr th:only-of-type {\n",
       "        vertical-align: middle;\n",
       "    }\n",
       "\n",
       "    .dataframe tbody tr th {\n",
       "        vertical-align: top;\n",
       "    }\n",
       "\n",
       "    .dataframe thead th {\n",
       "        text-align: right;\n",
       "    }\n",
       "</style>\n",
       "<table border=\"1\" class=\"dataframe\">\n",
       "  <thead>\n",
       "    <tr style=\"text-align: right;\">\n",
       "      <th></th>\n",
       "      <th>Unnamed: 0</th>\n",
       "      <th>timestamp</th>\n",
       "      <th>UTC time</th>\n",
       "      <th>label</th>\n",
       "    </tr>\n",
       "  </thead>\n",
       "  <tbody>\n",
       "    <tr>\n",
       "      <th>0</th>\n",
       "      <td>24339</td>\n",
       "      <td>1565110307041</td>\n",
       "      <td>2019-08-06T16:51:47.041</td>\n",
       "      <td>NaN</td>\n",
       "    </tr>\n",
       "    <tr>\n",
       "      <th>1</th>\n",
       "      <td>24349</td>\n",
       "      <td>1565110308043</td>\n",
       "      <td>2019-08-06T16:51:48.043</td>\n",
       "      <td>NaN</td>\n",
       "    </tr>\n",
       "    <tr>\n",
       "      <th>2</th>\n",
       "      <td>24359</td>\n",
       "      <td>1565110309046</td>\n",
       "      <td>2019-08-06T16:51:49.046</td>\n",
       "      <td>NaN</td>\n",
       "    </tr>\n",
       "    <tr>\n",
       "      <th>3</th>\n",
       "      <td>24369</td>\n",
       "      <td>1565110310048</td>\n",
       "      <td>2019-08-06T16:51:50.048</td>\n",
       "      <td>NaN</td>\n",
       "    </tr>\n",
       "    <tr>\n",
       "      <th>4</th>\n",
       "      <td>24379</td>\n",
       "      <td>1565110311050</td>\n",
       "      <td>2019-08-06T16:51:51.050</td>\n",
       "      <td>NaN</td>\n",
       "    </tr>\n",
       "  </tbody>\n",
       "</table>\n",
       "</div>"
      ],
      "text/plain": [
       "   Unnamed: 0      timestamp                 UTC time  label\n",
       "0       24339  1565110307041  2019-08-06T16:51:47.041    NaN\n",
       "1       24349  1565110308043  2019-08-06T16:51:48.043    NaN\n",
       "2       24359  1565110309046  2019-08-06T16:51:49.046    NaN\n",
       "3       24369  1565110310048  2019-08-06T16:51:50.048    NaN\n",
       "4       24379  1565110311050  2019-08-06T16:51:51.050    NaN"
      ]
     },
     "execution_count": 21,
     "metadata": {},
     "output_type": "execute_result"
    }
   ],
   "source": [
    "df_test_l = pd.read_csv('test_labels.csv')\n",
    "df_test_l.head()"
   ]
  },
  {
   "cell_type": "code",
   "execution_count": 22,
   "metadata": {},
   "outputs": [
    {
     "data": {
      "text/html": [
       "<div>\n",
       "<style scoped>\n",
       "    .dataframe tbody tr th:only-of-type {\n",
       "        vertical-align: middle;\n",
       "    }\n",
       "\n",
       "    .dataframe tbody tr th {\n",
       "        vertical-align: top;\n",
       "    }\n",
       "\n",
       "    .dataframe thead th {\n",
       "        text-align: right;\n",
       "    }\n",
       "</style>\n",
       "<table border=\"1\" class=\"dataframe\">\n",
       "  <thead>\n",
       "    <tr style=\"text-align: right;\">\n",
       "      <th></th>\n",
       "      <th>Unnamed: 0_x</th>\n",
       "      <th>timestamp</th>\n",
       "      <th>UTC time_x</th>\n",
       "      <th>accuracy</th>\n",
       "      <th>x</th>\n",
       "      <th>y</th>\n",
       "      <th>z</th>\n",
       "      <th>Unnamed: 0_y</th>\n",
       "      <th>UTC time_y</th>\n",
       "      <th>label</th>\n",
       "    </tr>\n",
       "  </thead>\n",
       "  <tbody>\n",
       "    <tr>\n",
       "      <th>0</th>\n",
       "      <td>24330</td>\n",
       "      <td>1565110306139</td>\n",
       "      <td>2019-08-06T16:51:46.139</td>\n",
       "      <td>unknown</td>\n",
       "      <td>0.034286</td>\n",
       "      <td>-1.504456</td>\n",
       "      <td>0.157623</td>\n",
       "      <td>NaN</td>\n",
       "      <td>NaN</td>\n",
       "      <td>NaN</td>\n",
       "    </tr>\n",
       "    <tr>\n",
       "      <th>1</th>\n",
       "      <td>24331</td>\n",
       "      <td>1565110306239</td>\n",
       "      <td>2019-08-06T16:51:46.239</td>\n",
       "      <td>unknown</td>\n",
       "      <td>0.409164</td>\n",
       "      <td>-1.038544</td>\n",
       "      <td>0.030975</td>\n",
       "      <td>NaN</td>\n",
       "      <td>NaN</td>\n",
       "      <td>NaN</td>\n",
       "    </tr>\n",
       "    <tr>\n",
       "      <th>2</th>\n",
       "      <td>24332</td>\n",
       "      <td>1565110306340</td>\n",
       "      <td>2019-08-06T16:51:46.340</td>\n",
       "      <td>unknown</td>\n",
       "      <td>-0.234390</td>\n",
       "      <td>-0.984558</td>\n",
       "      <td>0.124771</td>\n",
       "      <td>NaN</td>\n",
       "      <td>NaN</td>\n",
       "      <td>NaN</td>\n",
       "    </tr>\n",
       "    <tr>\n",
       "      <th>3</th>\n",
       "      <td>24333</td>\n",
       "      <td>1565110306440</td>\n",
       "      <td>2019-08-06T16:51:46.440</td>\n",
       "      <td>unknown</td>\n",
       "      <td>0.251114</td>\n",
       "      <td>-0.787003</td>\n",
       "      <td>0.054810</td>\n",
       "      <td>NaN</td>\n",
       "      <td>NaN</td>\n",
       "      <td>NaN</td>\n",
       "    </tr>\n",
       "    <tr>\n",
       "      <th>4</th>\n",
       "      <td>24334</td>\n",
       "      <td>1565110306540</td>\n",
       "      <td>2019-08-06T16:51:46.540</td>\n",
       "      <td>unknown</td>\n",
       "      <td>0.109924</td>\n",
       "      <td>-0.169510</td>\n",
       "      <td>0.235550</td>\n",
       "      <td>NaN</td>\n",
       "      <td>NaN</td>\n",
       "      <td>NaN</td>\n",
       "    </tr>\n",
       "  </tbody>\n",
       "</table>\n",
       "</div>"
      ],
      "text/plain": [
       "   Unnamed: 0_x      timestamp               UTC time_x accuracy         x  \\\n",
       "0         24330  1565110306139  2019-08-06T16:51:46.139  unknown  0.034286   \n",
       "1         24331  1565110306239  2019-08-06T16:51:46.239  unknown  0.409164   \n",
       "2         24332  1565110306340  2019-08-06T16:51:46.340  unknown -0.234390   \n",
       "3         24333  1565110306440  2019-08-06T16:51:46.440  unknown  0.251114   \n",
       "4         24334  1565110306540  2019-08-06T16:51:46.540  unknown  0.109924   \n",
       "\n",
       "          y         z  Unnamed: 0_y UTC time_y  label  \n",
       "0 -1.504456  0.157623           NaN        NaN    NaN  \n",
       "1 -1.038544  0.030975           NaN        NaN    NaN  \n",
       "2 -0.984558  0.124771           NaN        NaN    NaN  \n",
       "3 -0.787003  0.054810           NaN        NaN    NaN  \n",
       "4 -0.169510  0.235550           NaN        NaN    NaN  "
      ]
     },
     "execution_count": 22,
     "metadata": {},
     "output_type": "execute_result"
    }
   ],
   "source": [
    "df_test= pd.merge(df_test_ts,df_test_l, on=['timestamp'], how = 'left')\n",
    "df_test.head()"
   ]
  },
  {
   "cell_type": "code",
   "execution_count": 23,
   "metadata": {},
   "outputs": [
    {
     "data": {
      "text/html": [
       "<div>\n",
       "<style scoped>\n",
       "    .dataframe tbody tr th:only-of-type {\n",
       "        vertical-align: middle;\n",
       "    }\n",
       "\n",
       "    .dataframe tbody tr th {\n",
       "        vertical-align: top;\n",
       "    }\n",
       "\n",
       "    .dataframe thead th {\n",
       "        text-align: right;\n",
       "    }\n",
       "</style>\n",
       "<table border=\"1\" class=\"dataframe\">\n",
       "  <thead>\n",
       "    <tr style=\"text-align: right;\">\n",
       "      <th></th>\n",
       "      <th>timestamp</th>\n",
       "      <th>UTC time_x</th>\n",
       "      <th>x</th>\n",
       "      <th>y</th>\n",
       "      <th>z</th>\n",
       "    </tr>\n",
       "  </thead>\n",
       "  <tbody>\n",
       "    <tr>\n",
       "      <th>0</th>\n",
       "      <td>1565110306139</td>\n",
       "      <td>2019-08-06T16:51:46.139</td>\n",
       "      <td>0.034286</td>\n",
       "      <td>-1.504456</td>\n",
       "      <td>0.157623</td>\n",
       "    </tr>\n",
       "    <tr>\n",
       "      <th>1</th>\n",
       "      <td>1565110306239</td>\n",
       "      <td>2019-08-06T16:51:46.239</td>\n",
       "      <td>0.409164</td>\n",
       "      <td>-1.038544</td>\n",
       "      <td>0.030975</td>\n",
       "    </tr>\n",
       "    <tr>\n",
       "      <th>2</th>\n",
       "      <td>1565110306340</td>\n",
       "      <td>2019-08-06T16:51:46.340</td>\n",
       "      <td>-0.234390</td>\n",
       "      <td>-0.984558</td>\n",
       "      <td>0.124771</td>\n",
       "    </tr>\n",
       "    <tr>\n",
       "      <th>3</th>\n",
       "      <td>1565110306440</td>\n",
       "      <td>2019-08-06T16:51:46.440</td>\n",
       "      <td>0.251114</td>\n",
       "      <td>-0.787003</td>\n",
       "      <td>0.054810</td>\n",
       "    </tr>\n",
       "    <tr>\n",
       "      <th>4</th>\n",
       "      <td>1565110306540</td>\n",
       "      <td>2019-08-06T16:51:46.540</td>\n",
       "      <td>0.109924</td>\n",
       "      <td>-0.169510</td>\n",
       "      <td>0.235550</td>\n",
       "    </tr>\n",
       "  </tbody>\n",
       "</table>\n",
       "</div>"
      ],
      "text/plain": [
       "       timestamp               UTC time_x         x         y         z\n",
       "0  1565110306139  2019-08-06T16:51:46.139  0.034286 -1.504456  0.157623\n",
       "1  1565110306239  2019-08-06T16:51:46.239  0.409164 -1.038544  0.030975\n",
       "2  1565110306340  2019-08-06T16:51:46.340 -0.234390 -0.984558  0.124771\n",
       "3  1565110306440  2019-08-06T16:51:46.440  0.251114 -0.787003  0.054810\n",
       "4  1565110306540  2019-08-06T16:51:46.540  0.109924 -0.169510  0.235550"
      ]
     },
     "execution_count": 23,
     "metadata": {},
     "output_type": "execute_result"
    }
   ],
   "source": [
    "df_test = df_test[['timestamp','UTC time_x','x','y','z']]\n",
    "df_test.head()"
   ]
  },
  {
   "cell_type": "markdown",
   "metadata": {},
   "source": [
    "# Results"
   ]
  },
  {
   "cell_type": "markdown",
   "metadata": {},
   "source": [
    "I run the prediction function"
   ]
  },
  {
   "cell_type": "code",
   "execution_count": 24,
   "metadata": {},
   "outputs": [],
   "source": [
    "label_predicted_list= mov_prediction(df_test,movelet_dict_xyz,10,['x','y','z'])"
   ]
  },
  {
   "cell_type": "code",
   "execution_count": 115,
   "metadata": {},
   "outputs": [
    {
     "data": {
      "text/plain": [
       "Text(0.5, 1.0, 'Predicted labels')"
      ]
     },
     "execution_count": 115,
     "metadata": {},
     "output_type": "execute_result"
    },
    {
     "data": {
      "image/png": "[encoded data removed]",
      "text/plain": [
       "<Figure size 1800x576 with 1 Axes>"
      ]
     },
     "metadata": {
      "needs_background": "light"
     },
     "output_type": "display_data"
    }
   ],
   "source": [
    "plt.figure(figsize=(25,8))\n",
    "plt.plot(range(125),label_predicted_list,'X',color = 'green')\n",
    "plt.title('Predicted labels')"
   ]
  },
  {
   "cell_type": "markdown",
   "metadata": {},
   "source": [
    "Apparently the prediction shows a certain trend in the type of movement for different time intervals. The need to run the smoothing algorithm to improve the prediction adjustment seems obvious."
   ]
  },
  {
   "cell_type": "markdown",
   "metadata": {},
   "source": [
    "I Run the smoothing function"
   ]
  },
  {
   "cell_type": "code",
   "execution_count": 26,
   "metadata": {},
   "outputs": [],
   "source": [
    "label_p_smoothed = smooth_labels(pd.Series(label_predicted_list),2)"
   ]
  },
  {
   "cell_type": "code",
   "execution_count": 116,
   "metadata": {},
   "outputs": [
    {
     "data": {
      "text/plain": [
       "Text(0.5, 1.0, 'Smoothed Predicted Labels')"
      ]
     },
     "execution_count": 116,
     "metadata": {},
     "output_type": "execute_result"
    },
    {
     "data": {
      "image/png": "[encoded data removed]",
      "text/plain": [
       "<Figure size 1800x576 with 1 Axes>"
      ]
     },
     "metadata": {
      "needs_background": "light"
     },
     "output_type": "display_data"
    }
   ],
   "source": [
    "plt.figure(figsize=(25,8))\n",
    "plt.plot(range(125),label_p_smoothed,'X',color = 'red')\n",
    "\n",
    "plt.title('Smoothed Predicted Labels')"
   ]
  },
  {
   "cell_type": "markdown",
   "metadata": {},
   "source": [
    "After running the smoothing function the results of the prediction look more homogeneous during the time intervals. This will clearly improve the prediction."
   ]
  },
  {
   "cell_type": "code",
   "execution_count": 28,
   "metadata": {},
   "outputs": [],
   "source": [
    "df_prediction = df_test_l\n",
    "df_prediction['label'] = label_p_smoothed "
   ]
  },
  {
   "cell_type": "code",
   "execution_count": 29,
   "metadata": {},
   "outputs": [],
   "source": [
    "df_prediction = df_prediction[['timestamp','label']]"
   ]
  },
  {
   "cell_type": "code",
   "execution_count": 30,
   "metadata": {},
   "outputs": [
    {
     "data": {
      "text/html": [
       "<div>\n",
       "<style scoped>\n",
       "    .dataframe tbody tr th:only-of-type {\n",
       "        vertical-align: middle;\n",
       "    }\n",
       "\n",
       "    .dataframe tbody tr th {\n",
       "        vertical-align: top;\n",
       "    }\n",
       "\n",
       "    .dataframe thead th {\n",
       "        text-align: right;\n",
       "    }\n",
       "</style>\n",
       "<table border=\"1\" class=\"dataframe\">\n",
       "  <thead>\n",
       "    <tr style=\"text-align: right;\">\n",
       "      <th></th>\n",
       "      <th>timestamp</th>\n",
       "      <th>label</th>\n",
       "    </tr>\n",
       "  </thead>\n",
       "  <tbody>\n",
       "    <tr>\n",
       "      <th>0</th>\n",
       "      <td>1565110307041</td>\n",
       "      <td>4</td>\n",
       "    </tr>\n",
       "    <tr>\n",
       "      <th>1</th>\n",
       "      <td>1565110308043</td>\n",
       "      <td>4</td>\n",
       "    </tr>\n",
       "    <tr>\n",
       "      <th>2</th>\n",
       "      <td>1565110309046</td>\n",
       "      <td>4</td>\n",
       "    </tr>\n",
       "    <tr>\n",
       "      <th>3</th>\n",
       "      <td>1565110310048</td>\n",
       "      <td>4</td>\n",
       "    </tr>\n",
       "    <tr>\n",
       "      <th>4</th>\n",
       "      <td>1565110311050</td>\n",
       "      <td>4</td>\n",
       "    </tr>\n",
       "  </tbody>\n",
       "</table>\n",
       "</div>"
      ],
      "text/plain": [
       "       timestamp  label\n",
       "0  1565110307041      4\n",
       "1  1565110308043      4\n",
       "2  1565110309046      4\n",
       "3  1565110310048      4\n",
       "4  1565110311050      4"
      ]
     },
     "execution_count": 30,
     "metadata": {},
     "output_type": "execute_result"
    }
   ],
   "source": [
    "df_prediction.head()"
   ]
  },
  {
   "cell_type": "markdown",
   "metadata": {},
   "source": [
    "I export the dataframe into a csv file"
   ]
  },
  {
   "cell_type": "code",
   "execution_count": 31,
   "metadata": {},
   "outputs": [],
   "source": [
    "df_prediction.to_csv('df_prediction.csv')"
   ]
  },
  {
   "cell_type": "markdown",
   "metadata": {},
   "source": [
    "I will run the whole prediction code and time the duration of the process"
   ]
  },
  {
   "cell_type": "code",
   "execution_count": 32,
   "metadata": {},
   "outputs": [
    {
     "name": "stdout",
     "output_type": "stream",
     "text": [
      "My program took 33.86230206489563 to run\n"
     ]
    }
   ],
   "source": [
    "start_time = time.time()\n",
    "df_test_ts = pd.read_csv('test_time_series.csv')\n",
    "df_test_l = pd.read_csv('test_labels.csv')\n",
    "df_test= pd.merge(df_test_ts,df_test_l, on=['timestamp'], how = 'left')\n",
    "df_test = df_test[['timestamp','UTC time_x','x','y','z']]\n",
    "label_predicted_list= mov_prediction(df_test,movelet_dict_xyz,10,['x','y','z'])\n",
    "label_p_smoothed = smooth_labels(pd.Series(label_predicted_list),2)\n",
    "df_prediction = df_test_l\n",
    "df_prediction['label'] = label_p_smoothed \n",
    "df_prediction = df_prediction[['timestamp','label']]\n",
    "print (\"My program took\", time.time() - start_time, \"to run\")"
   ]
  },
  {
   "cell_type": "markdown",
   "metadata": {},
   "source": [
    "# Conclusion\n",
    "A computational strategy was designed for the prediction of the type of movement based on a set of three-axis accelerometers labeled. It is based on a bibliographic research done prior to coding. The strategy consists on a movelet dictionary generation and a data smoothing algorithm (refere to bibliography quoted in the introduction). As in any data analysis exercise, it is very important to understand the origin and the nature of the data.\n",
    "Timeseries analysis and accelerometer data is not my area of expertice (I am a Biochemist), so much reading was needed in a begining to understand the way to approach to this kind of data.\n",
    "The prediction result is acceptable (close to 80%). It is likely that a better prediction is possible by improving the characteristics of the movelet dictionary, for example by choosing movelets that best represent the labeled movement."
   ]
  },
  {
   "cell_type": "code",
   "execution_count": null,
   "metadata": {},
   "outputs": [],
   "source": []
  }
 ],
 "metadata": {
  "kernelspec": {
   "display_name": "Python 3",
   "language": "python",
   "name": "python3"
  },
  "language_info": {
   "codemirror_mode": {
    "name": "ipython",
    "version": 3
   },
   "file_extension": ".py",
   "mimetype": "text/x-python",
   "name": "python",
   "nbconvert_exporter": "python",
   "pygments_lexer": "ipython3",
   "version": "3.7.3"
  }
 },
 "nbformat": 4,
 "nbformat_minor": 2
}
