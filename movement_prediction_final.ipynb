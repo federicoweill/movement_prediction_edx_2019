{
 "cells": [
  {
   "cell_type": "markdown",
   "metadata": {},
   "source": [
    "# Introduction\n",
    "El presente proyecto consiste en la prediccion del movimiento realizado por un individuo en base a los datos obtenidos de un acelerometro de 3 ejes. Para llevar adelante esta prediccion se cuenta con un set de datos etiquetados.\n",
    "La estrategia seguida para conseguir la prediccion de los movimientos se baso en las publicaciones de BAI et al (CITA). \n",
    "Este autor y otros que validaron su estrategia, trabajan con un diccionario de 'movelets'. Los movelets son secuencias de 10 datos consecutivos para los 3 ejes (ROBAR DESCRIPCION DEL MOVELET). Se toma una muestra de n cantidad de segundos para un movimiento con una etiqueta dada (en mi caso tome 9 segundos) y generan (BUSCAR DESCRIPCION DE COMO SE HACEN LO MOVELETS)"
   ]
  },
  {
   "cell_type": "code",
   "execution_count": null,
   "metadata": {},
   "outputs": [],
   "source": [
    "import pandas as pd\n",
    "import numpy as np\n",
    "import matplotlib.pyplot as plt\n",
    "import time"
   ]
  },
  {
   "cell_type": "code",
   "execution_count": 2,
   "metadata": {},
   "outputs": [],
   "source": [
    "df_trts = pd.read_csv('train_time_series.csv')\n",
    "df_trl = pd.read_csv('train_labels.csv')\n",
    "df2 = pd.merge(df_trts,df_trl, on=['timestamp'], how = 'left')"
   ]
  },
  {
   "cell_type": "code",
   "execution_count": 3,
   "metadata": {},
   "outputs": [],
   "source": [
    "df2['label']= df2['label'].where(df2['label'].notnull(), \n",
    "                                other=df2['label'].fillna(method='ffill'))\n",
    "df2 = df2[['timestamp','UTC time_x','x','y','z','label']]"
   ]
  },
  {
   "cell_type": "code",
   "execution_count": 5,
   "metadata": {},
   "outputs": [
    {
     "data": {
      "text/html": [
       "<div>\n",
       "<style scoped>\n",
       "    .dataframe tbody tr th:only-of-type {\n",
       "        vertical-align: middle;\n",
       "    }\n",
       "\n",
       "    .dataframe tbody tr th {\n",
       "        vertical-align: top;\n",
       "    }\n",
       "\n",
       "    .dataframe thead th {\n",
       "        text-align: right;\n",
       "    }\n",
       "</style>\n",
       "<table border=\"1\" class=\"dataframe\">\n",
       "  <thead>\n",
       "    <tr style=\"text-align: right;\">\n",
       "      <th></th>\n",
       "      <th>timestamp</th>\n",
       "      <th>UTC time_x</th>\n",
       "      <th>x</th>\n",
       "      <th>y</th>\n",
       "      <th>z</th>\n",
       "      <th>label</th>\n",
       "    </tr>\n",
       "  </thead>\n",
       "  <tbody>\n",
       "    <tr>\n",
       "      <th>0</th>\n",
       "      <td>1565109930787</td>\n",
       "      <td>2019-08-06T16:45:30.787</td>\n",
       "      <td>-0.006485</td>\n",
       "      <td>-0.934860</td>\n",
       "      <td>-0.069046</td>\n",
       "      <td>NaN</td>\n",
       "    </tr>\n",
       "    <tr>\n",
       "      <th>1</th>\n",
       "      <td>1565109930887</td>\n",
       "      <td>2019-08-06T16:45:30.887</td>\n",
       "      <td>-0.066467</td>\n",
       "      <td>-1.015442</td>\n",
       "      <td>0.089554</td>\n",
       "      <td>NaN</td>\n",
       "    </tr>\n",
       "    <tr>\n",
       "      <th>2</th>\n",
       "      <td>1565109930987</td>\n",
       "      <td>2019-08-06T16:45:30.987</td>\n",
       "      <td>-0.043488</td>\n",
       "      <td>-1.021255</td>\n",
       "      <td>0.178467</td>\n",
       "      <td>NaN</td>\n",
       "    </tr>\n",
       "    <tr>\n",
       "      <th>3</th>\n",
       "      <td>1565109931087</td>\n",
       "      <td>2019-08-06T16:45:31.087</td>\n",
       "      <td>-0.053802</td>\n",
       "      <td>-0.987701</td>\n",
       "      <td>0.068985</td>\n",
       "      <td>1.0</td>\n",
       "    </tr>\n",
       "    <tr>\n",
       "      <th>4</th>\n",
       "      <td>1565109931188</td>\n",
       "      <td>2019-08-06T16:45:31.188</td>\n",
       "      <td>-0.054031</td>\n",
       "      <td>-1.003616</td>\n",
       "      <td>0.126450</td>\n",
       "      <td>1.0</td>\n",
       "    </tr>\n",
       "  </tbody>\n",
       "</table>\n",
       "</div>"
      ],
      "text/plain": [
       "       timestamp               UTC time_x         x         y         z  label\n",
       "0  1565109930787  2019-08-06T16:45:30.787 -0.006485 -0.934860 -0.069046    NaN\n",
       "1  1565109930887  2019-08-06T16:45:30.887 -0.066467 -1.015442  0.089554    NaN\n",
       "2  1565109930987  2019-08-06T16:45:30.987 -0.043488 -1.021255  0.178467    NaN\n",
       "3  1565109931087  2019-08-06T16:45:31.087 -0.053802 -0.987701  0.068985    1.0\n",
       "4  1565109931188  2019-08-06T16:45:31.188 -0.054031 -1.003616  0.126450    1.0"
      ]
     },
     "execution_count": 5,
     "metadata": {},
     "output_type": "execute_result"
    }
   ],
   "source": [
    "df2.head()"
   ]
  },
  {
   "cell_type": "code",
   "execution_count": 6,
   "metadata": {},
   "outputs": [],
   "source": [
    "def movelet_dict_generator (dataframes,columns):\n",
    "    '''this function takes a list of dataframes each one chosen for being representative of\n",
    "    a given movement (label), the columns of interest(ie. x, y, z,label) and the lenght of the \n",
    "    sample of the movement that is going to be used to generate de movelet dictionary'''\n",
    "    movelet_dict = pd.DataFrame(columns = columns)\n",
    "    for d in dataframes:\n",
    "        movelet_dictionary =pd.DataFrame(columns = columns)\n",
    "        for c in columns:\n",
    "            i = 0\n",
    "            j = 10\n",
    "            movelet_column = []\n",
    "            for n in range(d.shape[0]-10):\n",
    "                movelet_column.append(d[c][i:j])\n",
    "                i+=1\n",
    "                j+=1\n",
    "            movelet_dictionary[c] = movelet_column   \n",
    "        movelet_dict = movelet_dict.append(movelet_dictionary,ignore_index=True)\n",
    "    movelet_dict['label'].loc[0:80] = 1\n",
    "    movelet_dict['label'].loc[80:160]= 2\n",
    "    movelet_dict['label'].loc[160:240]= 3\n",
    "    movelet_dict['label'].loc[240:320]= 4\n",
    "    return movelet_dict\n"
   ]
  },
  {
   "cell_type": "code",
   "execution_count": 8,
   "metadata": {},
   "outputs": [],
   "source": [
    "df2label1 = df2[0:90]\n",
    "df2label2 = df2[260:350]\n",
    "df2label3 = df2[1740:1830]\n",
    "df2label4 = df2[1200:1290]\n",
    "dataframes = [df2label1,df2label2,df2label3,df2label4]\n",
    "\n",
    "movelet_dict_xyz = movelet_dict_generator(dataframes,['x','y','z','label'])"
   ]
  },
  {
   "cell_type": "code",
   "execution_count": 9,
   "metadata": {},
   "outputs": [],
   "source": [
    "def label_prediction_improved(X_test,movelet_dict,axs):\n",
    "    '''this functions takes a test dataframe (unlabeled)and a movelet dict and performs the algorithm to find the\n",
    "    movelet with the smallest difference considering the sum of the difference for each axis '''\n",
    "    differences = pd.DataFrame()\n",
    "    for j in axs:\n",
    "        diff_list =[]\n",
    "        for i in range(movelet_dict.shape[0]):\n",
    "            mdict = movelet_dict[j][i].reset_index(drop = True)\n",
    "            X_test_val = X_test[j].reset_index(drop = True)\n",
    "            diff = np.sum((mdict - X_test_val)**2)\n",
    "            diff_list.append(diff)\n",
    "        differences[j] = diff_list\n",
    "    differences['total_diff'] = differences.sum (axis = 1)\n",
    "    min_loc = differences['total_diff'].idxmin()\n",
    "    min_label = movelet_dict['label'][min_loc]\n",
    "    return (min_loc,min_label)"
   ]
  },
  {
   "cell_type": "code",
   "execution_count": 10,
   "metadata": {},
   "outputs": [],
   "source": [
    "def automated_prediction_process (df,movelet_dict,axis):\n",
    "    start_time = time.time()\n",
    "    labels = []\n",
    "    k = 0\n",
    "    df_len = df.shape[0]\n",
    "    for each in range(df_len//10):\n",
    "        lb = label_prediction_improved(df[k:k+10],movelet_dict,axis)\n",
    "        for r in range (10):\n",
    "            labels.append(lb[1])\n",
    "        k+=10\n",
    "    for n in range(df_len - len(labels)):\n",
    "        labels.append(labels[-1])\n",
    "    print (\"My program took\", time.time() - start_time, \"to run\")\n",
    "    return labels\n"
   ]
  },
  {
   "cell_type": "code",
   "execution_count": 21,
   "metadata": {},
   "outputs": [],
   "source": [
    "df_test_ts = pd.read_csv('test_time_series.csv')\n",
    "df_test_l = pd.read_csv('test_labels.csv')\n",
    "df_test= pd.merge(df_test_ts,df_test_l, on=['timestamp'], how = 'left')\n",
    "df_test = df_test[['timestamp','UTC time_x','x','y','z']]"
   ]
  },
  {
   "cell_type": "code",
   "execution_count": 22,
   "metadata": {},
   "outputs": [
    {
     "name": "stdout",
     "output_type": "stream",
     "text": [
      "My program took 47.98958706855774 to run\n"
     ]
    }
   ],
   "source": [
    "labels_test = automated_prediction_process(df_test,movelet_dict_xyz,['x','y','z'])"
   ]
  },
  {
   "cell_type": "code",
   "execution_count": 18,
   "metadata": {},
   "outputs": [],
   "source": [
    "df_test['label'] = labels_test"
   ]
  },
  {
   "cell_type": "code",
   "execution_count": 19,
   "metadata": {},
   "outputs": [],
   "source": [
    "df_test_1hz = pd.merge(df_test_l,df_test, on=['timestamp'], how = 'left')"
   ]
  },
  {
   "cell_type": "code",
   "execution_count": 20,
   "metadata": {},
   "outputs": [],
   "source": [
    "df_test_1hz= df_test_1hz[['timestamp','x','y','z','labels']]"
   ]
  },
  {
   "cell_type": "code",
   "execution_count": 23,
   "metadata": {},
   "outputs": [],
   "source": [
    "y = df_test_1hz['labels']"
   ]
  },
  {
   "cell_type": "code",
   "execution_count": 24,
   "metadata": {},
   "outputs": [
    {
     "data": {
      "text/plain": [
       "Text(0.5, 1.0, 'Predicted labels')"
      ]
     },
     "execution_count": 24,
     "metadata": {},
     "output_type": "execute_result"
    },
    {
     "data": {
      "image/png": "[encoded data removed]",
      "text/plain": [
       "<Figure size 1800x576 with 1 Axes>"
      ]
     },
     "metadata": {
      "needs_background": "light"
     },
     "output_type": "display_data"
    }
   ],
   "source": [
    "plt.figure(figsize=(25,8))\n",
    "plt.plot(range(125),y,'o', color ='red')\n",
    "plt.title('Predicted labels')"
   ]
  },
  {
   "cell_type": "code",
   "execution_count": 31,
   "metadata": {},
   "outputs": [],
   "source": [
    "def smooth_labels (series,neighbors):\n",
    "    '''this function takes a dataframe series corresponding to the predicted labels\n",
    "    and a number of neighbor labels to smooth the predicted labels based on the fact that movements\n",
    "    last at least a couple of seconds. It returns a smoothed list of labels'''\n",
    "    smooth_labels = []\n",
    "    neighbors = neighbors\n",
    "    smooth_labels[0:0] = series.loc[0:neighbors]\n",
    "    series = series.values    \n",
    "    for i in range (neighbors,len(series)-neighbors):\n",
    "        if any(x!=series[i] for x in smooth_labels[i-neighbors:i]) and any (y!=series[i] for y in series[i+1:i+1+neighbors]):\n",
    "            smooth_labels.append(smooth_labels[i-neighbors])\n",
    "            #smooth_labels.append(series[i+1])\n",
    "            #smooth_labels.append(series[i+1])\n",
    "        else:\n",
    "            smooth_labels.append(series[i])\n",
    "    for j in range (len(series)-neighbors,len(series)-1):\n",
    "        smooth_labels.append(series[j])\n",
    "    return smooth_labels"
   ]
  },
  {
   "cell_type": "code",
   "execution_count": 32,
   "metadata": {},
   "outputs": [],
   "source": [
    "smth = smooth_labels(df_test_1hz.labels,2)"
   ]
  },
  {
   "cell_type": "code",
   "execution_count": 33,
   "metadata": {},
   "outputs": [
    {
     "data": {
      "text/plain": [
       "125"
      ]
     },
     "execution_count": 33,
     "metadata": {},
     "output_type": "execute_result"
    }
   ],
   "source": [
    "len(smth)"
   ]
  },
  {
   "cell_type": "code",
   "execution_count": 34,
   "metadata": {},
   "outputs": [
    {
     "data": {
      "text/plain": [
       "Text(0.5, 1.0, 'predicted vs smoothed labels')"
      ]
     },
     "execution_count": 34,
     "metadata": {},
     "output_type": "execute_result"
    },
    {
     "data": {
      "image/png": "[encoded data removed]",
      "text/plain": [
       "<Figure size 1800x576 with 1 Axes>"
      ]
     },
     "metadata": {
      "needs_background": "light"
     },
     "output_type": "display_data"
    }
   ],
   "source": [
    "x = smth\n",
    "plt.figure(figsize=(25,8))\n",
    "plt.plot(range(125),y,'o', color ='red',label = 'predicted')\n",
    "plt.plot(range(125),x,'*',color = 'blue',label = 'smoothed')\n",
    "plt.legend()\n",
    "plt.title('predicted vs smoothed labels')"
   ]
  },
  {
   "cell_type": "code",
   "execution_count": 35,
   "metadata": {},
   "outputs": [
    {
     "name": "stdout",
     "output_type": "stream",
     "text": [
      "[4, 4, 4, 4, 4, 4, 4, 4, 4, 4, 4, 4, 4, 4, 4, 4, 4, 4, 4, 4, 4, 4, 4, 4, 4, 4, 4, 4, 4, 4, 4, 1, 1, 1, 1, 1, 1, 1, 1, 1, 1, 1, 1, 1, 1, 1, 1, 1, 1, 1, 1, 1, 1, 1, 1, 1, 1, 3, 3, 3, 3, 3, 3, 3, 3, 3, 3, 3, 3, 3, 3, 3, 3, 3, 3, 3, 3, 3, 3, 3, 3, 3, 3, 3, 3, 3, 3, 3, 3, 3, 3, 3, 3, 2, 2, 2, 2, 2, 2, 2, 2, 2, 2, 2, 2, 2, 2, 2, 2, 2, 2, 2, 2, 2, 2, 2, 2, 2, 2, 2, 4, 2, 2, 2, 2]\n"
     ]
    }
   ],
   "source": [
    "print(smth)"
   ]
  },
  {
   "cell_type": "code",
   "execution_count": null,
   "metadata": {},
   "outputs": [],
   "source": []
  }
 ],
 "metadata": {
  "kernelspec": {
   "display_name": "Python 3",
   "language": "python",
   "name": "python3"
  },
  "language_info": {
   "codemirror_mode": {
    "name": "ipython",
    "version": 3
   },
   "file_extension": ".py",
   "mimetype": "text/x-python",
   "name": "python",
   "nbconvert_exporter": "python",
   "pygments_lexer": "ipython3",
   "version": "3.7.3"
  }
 },
 "nbformat": 4,
 "nbformat_minor": 2
}
